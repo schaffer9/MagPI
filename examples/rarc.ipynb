{
 "cells": [
  {
   "cell_type": "code",
   "execution_count": 1,
   "metadata": {},
   "outputs": [],
   "source": [
    "from magpi.prelude import *\n",
    "from magpi import calc\n",
    "jax.config.update(\"jax_enable_x64\", False)"
   ]
  },
  {
   "cell_type": "code",
   "execution_count": 2,
   "metadata": {},
   "outputs": [],
   "source": [
    "from sklearn import datasets\n",
    "from sklearn.preprocessing import StandardScaler\n",
    "#X, y = datasets.make_regression(n_features=5, n_samples=5000, noise=0.1)\n",
    "X, y = datasets.make_friedman1(1000, 10, noise=0.2)"
   ]
  },
  {
   "cell_type": "code",
   "execution_count": 3,
   "metadata": {},
   "outputs": [
    {
     "data": {
      "text/plain": [
       "((1000, 10), (1000,))"
      ]
     },
     "execution_count": 3,
     "metadata": {},
     "output_type": "execute_result"
    }
   ],
   "source": [
    "#X = array(ds[\"data\"])\n",
    "scaler = StandardScaler()\n",
    "# X = scaler.fit_transform(ds[\"data\"])\n",
    "X = scaler.fit_transform(X)\n",
    "y = scaler.fit_transform(y[:, None])[:, 0]\n",
    "#y = array(ds[\"target\"])\n",
    "X.shape, y.shape\n"
   ]
  },
  {
   "cell_type": "code",
   "execution_count": 6,
   "metadata": {},
   "outputs": [
    {
     "data": {
      "text/plain": [
       "Array(1.3591337, dtype=float32)"
      ]
     },
     "execution_count": 6,
     "metadata": {},
     "output_type": "execute_result"
    }
   ],
   "source": [
    "key = random.PRNGKey(53)\n",
    "\n",
    "class NN(nn.Module):\n",
    "    @nn.compact\n",
    "    def __call__(self, x):\n",
    "        nodes = 2\n",
    "        activation = nn.gelu\n",
    "        x = activation(nn.Dense(nodes, name=\"dense1\")(x))\n",
    "        y = nn.Dense(1, name=\"dense2\")(x)\n",
    "        return y[0]\n",
    "\n",
    "model = NN()\n",
    "key, _key = random.split(key)\n",
    "init_params = model.init(_key, X[0])\n",
    "#init_params = tree_map(lambda t: t.astype(jnp.float64), init_params)\n",
    "@jit\n",
    "def loss(params, X, y):\n",
    "    return mean((model.apply(params, X) - y) ** 2)\n",
    "\n",
    "loss(init_params, X, y)"
   ]
  },
  {
   "cell_type": "code",
   "execution_count": 7,
   "metadata": {},
   "outputs": [
    {
     "data": {
      "text/plain": [
       "25"
      ]
     },
     "execution_count": 7,
     "metadata": {},
     "output_type": "execute_result"
    }
   ],
   "source": [
    "import math\n",
    "def dim(params):\n",
    "    return sum([math.prod(p.shape) for p in tree_leaves(params)])\n",
    "\n",
    "dim(init_params)"
   ]
  },
  {
   "cell_type": "code",
   "execution_count": 8,
   "metadata": {},
   "outputs": [],
   "source": [
    "from magpi.rarc import RARC\n",
    "states = []\n",
    "\n",
    "def cb(step):\n",
    "    s = step\n",
    "    states.append(s.state)\n",
    "\n",
    "solver = RARC(loss, q=1, tol=1e-5, r=2,\n",
    "              jit=True, maxiter=100, callback=cb, tol_subproblem=1e-5, maxiter_subproblem=500,\n",
    "              damping_parameter=1e-5)\n",
    "res = solver.run(init_params, X, y)"
   ]
  },
  {
   "cell_type": "code",
   "execution_count": 9,
   "metadata": {},
   "outputs": [
    {
     "data": {
      "image/png": "[encoded data removed]",
      "text/plain": [
       "<Figure size 640x480 with 1 Axes>"
      ]
     },
     "metadata": {},
     "output_type": "display_data"
    }
   ],
   "source": [
    "import matplotlib.pyplot as plt\n",
    "\n",
    "plt.figure()\n",
    "r = [s.error for s in states]\n",
    "plt.plot(r)\n",
    "plt.yscale('log')"
   ]
  },
  {
   "cell_type": "code",
   "execution_count": 59,
   "metadata": {},
   "outputs": [
    {
     "name": "stdout",
     "output_type": "stream",
     "text": [
      "3.228245 2.2111425 0.05790611\n",
      "3.2043777 2.063325 0.07330355\n",
      "2.8135211 1.7950535 0.102533996\n",
      "1.5877483 1.4683737 0.17552544\n",
      "0.14693685 1.078766 0.5332281\n",
      "0.00032342912 1.0579119 1.6716136\n",
      "-0.00047341431 1.0623573 1.450472\n",
      "9.2414644e-05 1.0604066 1.4694265\n",
      "-1.5746606e-05 1.0607729 1.467611\n",
      "2.4907072e-06 1.0607128 1.4677867\n",
      "-3.8002634e-07 1.0607221 1.4677701\n",
      "5.4750704e-08 1.0607207 1.4677714\n",
      "-6.1169665e-09 1.0607209 1.4677714\n",
      "4.0786524e-10 1.0607209 1.4677713\n",
      "6.30704e-10 1.0607209 1.4677713\n"
     ]
    },
    {
     "data": {
      "text/plain": [
       "SubproblemResult(iter_num=15, p=Array([ 0.01221965, -0.34952182, -0.4812313 , -0.33208156], dtype=float32), error=Array(8.8609454e-07, dtype=float32), converged=Array(True, dtype=bool))"
      ]
     },
     "execution_count": 59,
     "metadata": {},
     "output_type": "execute_result"
    }
   ],
   "source": [
    "from jaxopt import loop\n",
    "from magpi.rarc import random_eigh\n",
    "\n",
    "class SubproblemResult(T.NamedTuple):\n",
    "    iter_num: int\n",
    "    p: Array\n",
    "    error: Array\n",
    "    converged: Array\n",
    "    \n",
    "def newton_iteration(\n",
    "    alpha: float | Array,\n",
    "    p: Array,\n",
    "    grad_f: Array,\n",
    "    S,\n",
    "    maxiter: int,\n",
    "    tol: float,\n",
    "    unroll: bool,\n",
    "    jit: bool,\n",
    ") -> SubproblemResult:\n",
    "\n",
    "\n",
    "    def body(state):\n",
    "        iter_num, p = state\n",
    "        np = alpha * norm(p) * p\n",
    "        _dp = dp(p)\n",
    "        H_inv = 1 / (S + np)\n",
    "        Hp = H_inv * p\n",
    "        p1 = H_inv * _dp\n",
    "        p2 = -((Hp @ (Hp * _dp)) / (1 + p @ Hp)) * (alpha / norm(p))\n",
    "        print((Hp @ (Hp * _dp)), (1 + p @ Hp),  (alpha / norm(p)))\n",
    "        return iter_num + 1, p - p1 - p2\n",
    "\n",
    "    def dp(p):\n",
    "        return grad_f + S * p + alpha * norm(p) * p\n",
    "    \n",
    "    def cond(state):\n",
    "        return norm(dp(state[1])) > tol\n",
    "\n",
    "    iter_num, p = loop.while_loop(cond, body, (0, p), maxiter=maxiter, unroll=unroll, jit=jit)\n",
    "    error = norm(dp(p))\n",
    "    return SubproblemResult(iter_num, p, error, error <= tol)\n",
    "\n",
    "def tree_matvec(a, b):\n",
    "    _matmul = jax.vmap(tree_vdot, in_axes=(-1, None), out_axes=-1)\n",
    "    return _matmul(a, b)\n",
    "\n",
    "_, df, hvp = calc.value_grad_hvp(loss, init_params, X, y)\n",
    "S, U = random_eigh(key, hvp, init_params, 4, 4)\n",
    "g = tree_matvec(U, df)\n",
    "res = newton_iteration(1.0, g, g, jnp.abs(S), 200, 1e-6, True, False)\n",
    "res"
   ]
  },
  {
   "cell_type": "code",
   "execution_count": 10,
   "metadata": {},
   "outputs": [],
   "source": [
    "from jax.flatten_util import ravel_pytree\n",
    "_init_params, unravel = ravel_pytree(init_params)\n",
    "@jit\n",
    "def _loss(params, X, y):\n",
    "    params = unravel(params)\n",
    "    return mean((model.apply(params, X) - y) ** 2)\n",
    "H = jax.hessian(_loss)(_init_params, X, y)\n",
    "S2, U2 = jnp.linalg.eigh(H)"
   ]
  },
  {
   "cell_type": "code",
   "execution_count": 11,
   "metadata": {},
   "outputs": [
    {
     "data": {
      "text/plain": [
       "Array([-3.7374134e+00, -1.6990969e+00, -3.6710281e-07, -2.6228159e-07,\n",
       "       -5.8910622e-08, -4.6821924e-08, -3.5989569e-08, -2.8605173e-08,\n",
       "       -2.7856505e-08, -7.1859176e-09, -2.5726863e-09, -1.0076545e-09,\n",
       "        4.5441064e-09,  5.7169403e-09,  1.2116065e-08,  1.2647913e-08,\n",
       "        2.0982103e-08,  2.7741873e-08,  3.3929702e-08,  6.7310687e-08,\n",
       "        1.4118750e-07,  1.9515534e-07,  6.3687050e-01,  5.4135146e+00,\n",
       "        2.4626572e+01], dtype=float32)"
      ]
     },
     "execution_count": 11,
     "metadata": {},
     "output_type": "execute_result"
    }
   ],
   "source": [
    "S2"
   ]
  },
  {
   "cell_type": "code",
   "execution_count": 219,
   "metadata": {},
   "outputs": [],
   "source": [
    "class EighResult(T.NamedTuple):\n",
    "    eigenvalues: jax.Array\n",
    "    eigenvectors: jax.Array\n",
    "\n",
    "def random_eigh(\n",
    "    key,\n",
    "    matvec,\n",
    "    Q_init,\n",
    "    Q,\n",
    "    r: int,\n",
    "    q: int = 2,\n",
    "    unroll: None | int | bool = None,\n",
    "    lam_max=0.0\n",
    ") -> EighResult:\n",
    "    \"\"\"Performs an Eigenvalue Decomposition via random subspace iteration.\n",
    "    See Algorithm 4.4 and 5.3 in [1].\n",
    "\n",
    "    Parameters\n",
    "    ----------\n",
    "    key : Key\n",
    "    matvec : Callable[[Array], Array]\n",
    "        Hermitian matrix vector product\n",
    "    Q_init : chex.ArrayTree\n",
    "        initial structure of vector applied to `matvec`\n",
    "    r : int\n",
    "        computes the `r` largest Eigenpairs of `matvec`\n",
    "    q : int\n",
    "        number of power iterations to run, by default 2\n",
    "    unroll : None | int | bool, optional\n",
    "        unroll option for `jax.lax.fori_loop`\n",
    "\n",
    "    Returns\n",
    "    -------\n",
    "    tuple[Eigenvalues, Eigenvectors]\n",
    "\n",
    "    Notes\n",
    "    -----\n",
    "    .. [1] Halko, Nathan, Per-Gunnar Martinsson, and Joel A. Tropp.\n",
    "    \"Finding structure with randomness: Probabilistic algorithms for\n",
    "    constructing approximate matrix decompositions.\"\n",
    "    SIAM review 53.2 (2011): 217-288.\n",
    "    \"\"\"\n",
    "    _, unravel = ravel_pytree(Q_init)\n",
    "    #Q = random.normal(key, (*Q.shape, r))\n",
    "\n",
    "    # subspace iteration:\n",
    "\n",
    "    def _matvec(Q):\n",
    "        Q_new = matvec(unravel(Q))\n",
    "        Q_new, _ = ravel_pytree(Q_new)\n",
    "        return Q_new - lam_max * Q\n",
    "    #Q = vmap(_matvec, -1, -1)(Q)\n",
    "    def body(i, Q):\n",
    "        Q_new = vmap(_matvec, -1, -1)(Q)\n",
    "        Q_new, R = jnp.linalg.qr(Q_new)\n",
    "        \n",
    "        #Q = Q_new - lam_max * Q_new\n",
    "        #Q_new, R = jnp.linalg.qr(Q)\n",
    "        return Q_new, R\n",
    "\n",
    "    #Q = lax.fori_loop(1, q, body, Q, unroll=unroll)\n",
    "    for i in range(q):\n",
    "        Q, R = body(i, Q)\n",
    "    # Eigenvalue decomposition:\n",
    "    def _matvec(Q):\n",
    "        Q_new = matvec(unravel(Q))\n",
    "        Q_new, _ = ravel_pytree(Q_new)\n",
    "        return Q_new\n",
    "    \n",
    "    def _matvec(Q):\n",
    "        Q_new = matvec(unravel(Q))\n",
    "        Q_new, _ = ravel_pytree(Q_new)\n",
    "        return Q_new\n",
    "    Y = vmap(_matvec, -1, -1)(Q)\n",
    "    B = Q.T @ Y\n",
    "    S, U = jnp.linalg.eigh(B)\n",
    "    U = Q @ U\n",
    "    #U = vmap(unravel, -1, -1)(U)\n",
    "    return EighResult(S, U)\n",
    "\n",
    "_, g, hvp = calc.value_grad_hvp(loss, init_params, X, y)\n",
    "S, U = random_eigh(key, hvp, g, U, 5, q=2, lam_max=25)"
   ]
  },
  {
   "cell_type": "code",
   "execution_count": 220,
   "metadata": {},
   "outputs": [
    {
     "data": {
      "text/plain": [
       "(Array([-3.6591308e+00, -1.1117916e+00,  8.8817850e-15,  4.0025261e-04,\n",
       "         1.8818302e-02], dtype=float32),\n",
       " Array([-3.7374134e+00, -1.6990969e+00, -3.6710281e-07, -2.6228159e-07,\n",
       "        -5.8910622e-08, -4.6821924e-08, -3.5989569e-08, -2.8605173e-08,\n",
       "        -2.7856505e-08, -7.1859176e-09, -2.5726863e-09, -1.0076545e-09,\n",
       "         4.5441064e-09,  5.7169403e-09,  1.2116065e-08,  1.2647913e-08,\n",
       "         2.0982103e-08,  2.7741873e-08,  3.3929702e-08,  6.7310687e-08,\n",
       "         1.4118750e-07,  1.9515534e-07,  6.3687050e-01,  5.4135146e+00,\n",
       "         2.4626572e+01], dtype=float32))"
      ]
     },
     "execution_count": 220,
     "metadata": {},
     "output_type": "execute_result"
    }
   ],
   "source": [
    "S, S2"
   ]
  },
  {
   "cell_type": "code",
   "execution_count": 77,
   "metadata": {},
   "outputs": [
    {
     "data": {
      "text/plain": [
       "25"
      ]
     },
     "execution_count": 77,
     "metadata": {},
     "output_type": "execute_result"
    }
   ],
   "source": []
  },
  {
   "cell_type": "code",
   "execution_count": 72,
   "metadata": {},
   "outputs": [
    {
     "ename": "NameError",
     "evalue": "name 'random_subspace_iteration' is not defined",
     "output_type": "error",
     "traceback": [
      "\u001b[0;31m---------------------------------------------------------------------------\u001b[0m",
      "\u001b[0;31mNameError\u001b[0m                                 Traceback (most recent call last)",
      "Cell \u001b[0;32mIn[72], line 3\u001b[0m\n\u001b[1;32m      1\u001b[0m hvp \u001b[38;5;241m=\u001b[39m \u001b[38;5;28;01mlambda\u001b[39;00m p: calc\u001b[38;5;241m.\u001b[39mhvp_forward_over_reverse(loss, (init_params,), (p,), X, y)\n\u001b[1;32m      2\u001b[0m _hvp \u001b[38;5;241m=\u001b[39m vmap(hvp, \u001b[38;5;241m-\u001b[39m\u001b[38;5;241m1\u001b[39m)\n\u001b[0;32m----> 3\u001b[0m \u001b[43mrandom_subspace_iteration\u001b[49m(key, _hvp, init_params, \u001b[38;5;241m5\u001b[39m, \u001b[38;5;241m1\u001b[39m)\n",
      "\u001b[0;31mNameError\u001b[0m: name 'random_subspace_iteration' is not defined"
     ]
    }
   ],
   "source": [
    "hvp = lambda p: calc.hvp_forward_over_reverse(loss, (init_params,), (p,), X, y)\n",
    "_hvp = vmap(hvp, -1)\n",
    "random_subspace_iteration(key, _hvp, init_params, 5, 1)"
   ]
  },
  {
   "cell_type": "code",
   "execution_count": 25,
   "metadata": {},
   "outputs": [
    {
     "ename": "TypeError",
     "evalue": "jvp() takes from 3 to 4 positional arguments but 5 were given",
     "output_type": "error",
     "traceback": [
      "\u001b[0;31m---------------------------------------------------------------------------\u001b[0m",
      "\u001b[0;31mTypeError\u001b[0m                                 Traceback (most recent call last)",
      "Cell \u001b[0;32mIn[25], line 2\u001b[0m\n\u001b[1;32m      1\u001b[0m p \u001b[38;5;241m=\u001b[39m draw_subspace(key, init_params, \u001b[38;5;241m1\u001b[39m)\n\u001b[0;32m----> 2\u001b[0m \u001b[43mjvp\u001b[49m\u001b[43m(\u001b[49m\u001b[43mloss\u001b[49m\u001b[43m,\u001b[49m\u001b[43m \u001b[49m\u001b[43m(\u001b[49m\u001b[43minit_params\u001b[49m\u001b[43m,\u001b[49m\u001b[43m)\u001b[49m\u001b[43m,\u001b[49m\u001b[43m \u001b[49m\u001b[43m(\u001b[49m\u001b[43mp\u001b[49m\u001b[43m,\u001b[49m\u001b[43m)\u001b[49m\u001b[43m,\u001b[49m\u001b[43m \u001b[49m\u001b[43mX\u001b[49m\u001b[43m,\u001b[49m\u001b[43m \u001b[49m\u001b[43my\u001b[49m\u001b[43m)\u001b[49m\n",
      "\u001b[0;31mTypeError\u001b[0m: jvp() takes from 3 to 4 positional arguments but 5 were given"
     ]
    }
   ],
   "source": [
    "p = draw_subspace_samples(key, init_params, 1)\n",
    "jvp(loss, (init_params,), (p,), X, y)"
   ]
  },
  {
   "cell_type": "code",
   "execution_count": 25,
   "metadata": {},
   "outputs": [],
   "source": [
    "def _for_loop(lower, upper, body_fun, init_val, unroll=False, jit=True):\n",
    "    def cond_fun(state):\n",
    "        i, _ = state\n",
    "        return i < upper\n",
    "        \n",
    "    def body(state):\n",
    "        i, state = state\n",
    "        state = body_fun(i, state)\n",
    "        return i + 1, state\n",
    "    \n",
    "    _, state = loop.while_loop(cond_fun, body, (lower, init_val), \n",
    "                               maxiter=upper, unroll=unroll, jit=jit)\n",
    "    return state"
   ]
  },
  {
   "cell_type": "code",
   "execution_count": 47,
   "metadata": {},
   "outputs": [],
   "source": [
    "from magpi.sfn import *\n",
    "\n",
    "def _tree_set(M, v, i):\n",
    "    return tree_map(lambda M, v: M.at[i].set(v), M, v)\n",
    "\n",
    "def lanczos_iteration(k, w0, matvec_product, last_update=None, unroll=False, jit=True):\n",
    "    alpha = zeros((k,))\n",
    "    beta = zeros((k,))\n",
    "    W = tree_map(lambda t: zeros((k, *t.shape)), w0)\n",
    "    V = tree_map(lambda t: zeros((k, *t.shape)), w0)\n",
    "    w_last = w0\n",
    "    v_last = tree_zeros_like(w0)\n",
    "    \n",
    "    def body(i, state):\n",
    "        (V, W, alpha, beta, v_last, w_last) = state\n",
    "        beta_i = tree_l2_norm(w_last)\n",
    "        vi = tree_scalar_mul(1 / beta_i, w_last)\n",
    "        wi = matvec_product(vi)\n",
    "        \n",
    "        V = _tree_set(V, vi, i)\n",
    "        W = _tree_set(W, wi, i)\n",
    "        \n",
    "        wi = tree_sub(wi, tree_scalar_mul(beta_i, v_last))\n",
    "        alpha_i = tree_vdot(wi, vi)\n",
    "        wi = tree_sub(wi, tree_scalar_mul(alpha_i, vi))\n",
    "        alpha = alpha.at[i].set(alpha_i)\n",
    "        beta = beta.at[i].set(beta_i)\n",
    "        return (V, W, alpha, beta, vi, wi)\n",
    "\n",
    "    state = (V, W, alpha, beta, v_last, w_last)\n",
    "    (V, W, alpha, beta, _, _) = _for_loop(0, k, body, state, unroll=unroll, jit=jit)\n",
    "    return V, W, alpha, beta\n",
    "\n",
    "_loss = lambda p: loss(p, X, y)\n",
    "df = grad(_loss)(init_params)\n",
    "hvp = lambda t: calc.hvp_forward_over_reverse(_loss, (init_params,), (t,))\n",
    "V, W, _, _ = lanczos_iteration(1, tree_negative(df), hvp)#, state.last_update)\n",
    "G = tree_matmul(V, W)"
   ]
  },
  {
   "cell_type": "code",
   "execution_count": 48,
   "metadata": {},
   "outputs": [
    {
     "data": {
      "text/plain": [
       "Array([[[ 1.23644277e-04,  2.16343701e-02,  4.42935881e-04,\n",
       "          7.41966488e-03, -1.94277875e-02],\n",
       "        [ 2.16343720e-02,  3.78542423e+00,  7.75016844e-02,\n",
       "          1.29823875e+00, -3.39933228e+00],\n",
       "        [ 4.42935940e-04,  7.75016844e-02,  1.58674724e-03,\n",
       "          2.65797693e-02, -6.95969537e-02],\n",
       "        [ 7.41966534e-03,  1.29823864e+00,  2.65797656e-02,\n",
       "          4.45240438e-01, -1.16582572e+00],\n",
       "        [-1.94277875e-02, -3.39933205e+00, -6.95969462e-02,\n",
       "         -1.16582572e+00,  3.05261946e+00]],\n",
       "\n",
       "       [[ 5.17903900e-05,  9.06190276e-03,  1.85530793e-04,\n",
       "          3.10784578e-03, -8.13764054e-03],\n",
       "        [ 9.06190369e-03,  1.58558559e+00,  3.24628241e-02,\n",
       "          5.43788135e-01, -1.42386484e+00],\n",
       "        [ 1.85530807e-04,  3.24628204e-02,  6.64634455e-04,\n",
       "          1.11333616e-02, -2.91517973e-02],\n",
       "        [ 3.10784578e-03,  5.43788075e-01,  1.11333607e-02,\n",
       "          1.86496094e-01, -4.88324791e-01],\n",
       "        [-8.13764054e-03, -1.42386484e+00, -2.91517992e-02,\n",
       "         -4.88324821e-01,  1.27863860e+00]],\n",
       "\n",
       "       [[ 3.31452211e-05,  5.79950865e-03,  1.18737466e-04,\n",
       "          1.98898371e-03, -5.20799123e-03],\n",
       "        [ 5.79950865e-03,  1.01475549e+00,  2.07758136e-02,\n",
       "          3.48017812e-01, -9.11256254e-01],\n",
       "        [ 1.18737466e-04,  2.07758136e-02,  4.25358012e-04,\n",
       "          7.12521654e-03, -1.86567977e-02],\n",
       "        [ 1.98898395e-03,  3.48017842e-01,  7.12521747e-03,\n",
       "          1.19355261e-01, -3.12521994e-01],\n",
       "        [-5.20799216e-03, -9.11256313e-01, -1.86567996e-02,\n",
       "         -3.12521994e-01,  8.18313301e-01]],\n",
       "\n",
       "       [[-8.10795154e-06, -1.41866994e-03, -2.90454409e-05,\n",
       "         -4.86543198e-04,  1.27397373e-03],\n",
       "        [-1.41867006e-03, -2.48228490e-01, -5.08215884e-03,\n",
       "         -8.51317719e-02,  2.22910598e-01],\n",
       "        [-2.90454409e-05, -5.08215884e-03, -1.04050654e-04,\n",
       "         -1.74296345e-03,  4.56380751e-03],\n",
       "        [-4.86543198e-04, -8.51317719e-02, -1.74296333e-03,\n",
       "         -2.91965604e-02,  7.64488131e-02],\n",
       "        [ 1.27397373e-03,  2.22910598e-01,  4.56380751e-03,\n",
       "          7.64488205e-02, -2.00174987e-01]],\n",
       "\n",
       "       [[-5.13836058e-05, -8.99072643e-03, -1.84073564e-04,\n",
       "         -3.08343535e-03,  8.07372387e-03],\n",
       "        [-8.99072923e-03, -1.57313192e+00, -3.22078504e-02,\n",
       "         -5.39517045e-01,  1.41268134e+00],\n",
       "        [-1.84073579e-04, -3.22078466e-02, -6.59414218e-04,\n",
       "         -1.10459160e-02,  2.89228298e-02],\n",
       "        [-3.08343582e-03, -5.39516985e-01, -1.10459160e-02,\n",
       "         -1.85031295e-01,  4.84489322e-01],\n",
       "        [ 8.07372481e-03,  1.41268134e+00,  2.89228316e-02,\n",
       "          4.84489352e-01, -1.26859581e+00]],\n",
       "\n",
       "       [[-2.61532659e-06, -4.57610673e-04, -9.36898959e-06,\n",
       "         -1.56940921e-04,  4.10936977e-04],\n",
       "        [-4.57610702e-04, -8.00693706e-02, -1.63931726e-03,\n",
       "         -2.74603758e-02,  7.19027519e-02],\n",
       "        [-9.36899050e-06, -1.63931737e-03, -3.35629120e-05,\n",
       "         -5.62215864e-04,  1.47211633e-03],\n",
       "        [-1.56940936e-04, -2.74603758e-02, -5.62215806e-04,\n",
       "         -9.41773597e-03,  2.46595722e-02],\n",
       "        [ 4.10937006e-04,  7.19027519e-02,  1.47211622e-03,\n",
       "          2.46595722e-02, -6.45690784e-02]],\n",
       "\n",
       "       [[ 5.55030165e-05,  9.71151143e-03,  1.98830690e-04,\n",
       "          3.33063351e-03, -8.72099213e-03],\n",
       "        [ 9.71151236e-03,  1.69924927e+00,  3.47899422e-02,\n",
       "          5.82769930e-01, -1.52593541e+00],\n",
       "        [ 1.98830705e-04,  3.47899422e-02,  7.12279289e-04,\n",
       "          1.19314641e-02, -3.12415659e-02],\n",
       "        [ 3.33063398e-03,  5.82769930e-01,  1.19314641e-02,\n",
       "          1.99865207e-01, -5.23330688e-01],\n",
       "        [-8.72099306e-03, -1.52593553e+00, -3.12415659e-02,\n",
       "         -5.23330748e-01,  1.37029874e+00]],\n",
       "\n",
       "       [[-7.00194505e-05, -1.22514907e-02, -2.50833516e-04,\n",
       "         -4.20173816e-03,  1.10019082e-02],\n",
       "        [-1.22514926e-02, -2.14367652e+00, -4.38890159e-02,\n",
       "         -7.35189497e-01,  1.92503357e+00],\n",
       "        [-2.50833546e-04, -4.38890196e-02, -8.98571161e-04,\n",
       "         -1.50520587e-02,  3.94125879e-02],\n",
       "        [-4.20173863e-03, -7.35189497e-01, -1.50520587e-02,\n",
       "         -2.52138585e-01,  6.60204351e-01],\n",
       "        [ 1.10019101e-02,  1.92503369e+00,  3.94125842e-02,\n",
       "          6.60204351e-01, -1.72869110e+00]]], dtype=float32)"
      ]
     },
     "execution_count": 48,
     "metadata": {},
     "output_type": "execute_result"
    }
   ],
   "source": [
    "\n",
    "\n",
    "def _hessian(G, V):\n",
    "    def _dot(x, y):\n",
    "        a = jnp.tensordot(x, G, ((0,), (0,)))\n",
    "        b = jnp.tensordot(a, y, ((-1,), (0,)))\n",
    "        return b\n",
    "    right = lambda v1: tree_map(lambda v2: _dot(v1, v2), V) \n",
    "    return tree_map(right, V)\n",
    "\n",
    "_H = _hessian(G, V)\n",
    "_H[\"params\"][\"dense1\"][\"kernel\"][\"params\"][\"dense1\"][\"bias\"]\n"
   ]
  },
  {
   "cell_type": "code",
   "execution_count": 49,
   "metadata": {},
   "outputs": [
    {
     "data": {
      "text/plain": [
       "Array([[[ 8.97057238e-04,  2.16291528e-02,  4.42829158e-04,\n",
       "          7.41787627e-03, -1.94231048e-02],\n",
       "        [ 2.16291584e-02,  3.79341221e+00,  7.74829835e-02,\n",
       "          1.29792595e+00, -3.39851213e+00],\n",
       "        [ 4.42829099e-04,  7.74829760e-02,  4.68863640e-03,\n",
       "          2.65733562e-02, -6.95801526e-02],\n",
       "        [ 7.41787720e-03,  1.29792571e+00,  2.65733488e-02,\n",
       "          4.57407564e-01, -1.16554427e+00],\n",
       "        [-1.94231048e-02, -3.39851284e+00, -6.95801526e-02,\n",
       "         -1.16554463e+00,  3.04369831e+00]],\n",
       "\n",
       "       [[ 3.75746808e-04,  9.05971695e-03,  1.85486089e-04,\n",
       "          3.10709653e-03, -8.13567918e-03],\n",
       "        [ 9.05971974e-03,  1.58893156e+00,  3.24549899e-02,\n",
       "          5.43657064e-01, -1.42352128e+00],\n",
       "        [ 1.85486060e-04,  3.24549861e-02,  1.96391041e-03,\n",
       "          1.11306757e-02, -2.91447621e-02],\n",
       "        [ 3.10709677e-03,  5.43657005e-01,  1.11306729e-02,\n",
       "          1.91592485e-01, -4.88206923e-01],\n",
       "        [-8.13567918e-03, -1.42352152e+00, -2.91447621e-02,\n",
       "         -4.88207042e-01,  1.27490187e+00]],\n",
       "\n",
       "       [[ 2.40473426e-04,  5.79810981e-03,  1.18708856e-04,\n",
       "          1.98850431e-03, -5.20673674e-03],\n",
       "        [ 5.79811167e-03,  1.01689696e+00,  2.07708031e-02,\n",
       "          3.47933978e-01, -9.11036432e-01],\n",
       "        [ 1.18708842e-04,  2.07707994e-02,  1.25687895e-03,\n",
       "          7.12349825e-03, -1.86522957e-02],\n",
       "        [ 1.98850455e-03,  3.47933918e-01,  7.12349685e-03,\n",
       "          1.22616880e-01, -3.12446535e-01],\n",
       "        [-5.20673674e-03, -9.11036611e-01, -1.86522957e-02,\n",
       "         -3.12446624e-01,  8.15921783e-01]],\n",
       "\n",
       "       [[-5.88243674e-05, -1.41832780e-03, -2.90384414e-05,\n",
       "         -4.86425910e-04,  1.27366662e-03],\n",
       "        [-1.41832826e-03, -2.48752326e-01, -5.08093275e-03,\n",
       "         -8.51112604e-02,  2.22856820e-01],\n",
       "        [-2.90384378e-05, -5.08093229e-03, -3.07456474e-04,\n",
       "         -1.74254307e-03,  4.56270576e-03],\n",
       "        [-4.86425968e-04, -8.51112455e-02, -1.74254260e-03,\n",
       "         -2.99944170e-02,  7.64303580e-02],\n",
       "        [ 1.27366662e-03,  2.22856864e-01,  4.56270576e-03,\n",
       "          7.64303803e-02, -1.99589968e-01]],\n",
       "\n",
       "       [[-3.72795563e-04, -8.98855925e-03, -1.84029224e-04,\n",
       "         -3.08269216e-03,  8.07177834e-03],\n",
       "        [-8.98856204e-03, -1.57645154e+00, -3.22000794e-02,\n",
       "         -5.39386988e-01,  1.41234052e+00],\n",
       "        [-1.84029195e-04, -3.22000757e-02, -1.94848515e-03,\n",
       "         -1.10432515e-02,  2.89158486e-02],\n",
       "        [-3.08269262e-03, -5.39386928e-01, -1.10432487e-02,\n",
       "         -1.90087646e-01,  4.84372348e-01],\n",
       "        [ 8.07177834e-03,  1.41234076e+00,  2.89158486e-02,\n",
       "          4.84372497e-01, -1.26488829e+00]],\n",
       "\n",
       "       [[-1.89745751e-05, -4.57500311e-04, -9.36673223e-06,\n",
       "         -1.56903086e-04,  4.10837965e-04],\n",
       "        [-4.57500457e-04, -8.02383423e-02, -1.63892191e-03,\n",
       "         -2.74537578e-02,  7.18854070e-02],\n",
       "        [-9.36673132e-06, -1.63892168e-03, -9.91741399e-05,\n",
       "         -5.62080240e-04,  1.47176092e-03],\n",
       "        [-1.56903116e-04, -2.74537560e-02, -5.62080066e-04,\n",
       "         -9.67509486e-03,  2.46536192e-02],\n",
       "        [ 4.10837965e-04,  7.18854219e-02,  1.47176092e-03,\n",
       "          2.46536266e-02, -6.43803775e-02]],\n",
       "\n",
       "       [[ 4.02682490e-04,  9.70916916e-03,  1.98782800e-04,\n",
       "          3.32983094e-03, -8.71889107e-03],\n",
       "        [ 9.70917288e-03,  1.70283520e+00,  3.47815491e-02,\n",
       "          5.82629502e-01, -1.52556741e+00],\n",
       "        [ 1.98782756e-04,  3.47815454e-02,  2.10469472e-03,\n",
       "          1.19285863e-02, -3.12340241e-02],\n",
       "        [ 3.32983141e-03,  5.82629442e-01,  1.19285835e-02,\n",
       "          2.05326930e-01, -5.23204386e-01],\n",
       "        [-8.71889107e-03, -1.52556765e+00, -3.12340241e-02,\n",
       "         -5.23204505e-01,  1.36629415e+00]],\n",
       "\n",
       "       [[-5.08001365e-04, -1.22485375e-02, -2.50773097e-04,\n",
       "         -4.20072582e-03,  1.09992586e-02],\n",
       "        [-1.22485412e-02, -2.14820027e+00, -4.38784286e-02,\n",
       "         -7.35012352e-01,  1.92456937e+00],\n",
       "        [-2.50773068e-04, -4.38784249e-02, -2.65516341e-03,\n",
       "         -1.50484275e-02,  3.94030735e-02],\n",
       "        [-4.20072628e-03, -7.35012233e-01, -1.50484247e-02,\n",
       "         -2.59028792e-01,  6.60044968e-01],\n",
       "        [ 1.09992586e-02,  1.92456961e+00,  3.94030735e-02,\n",
       "          6.60045147e-01, -1.72363913e+00]]], dtype=float32)"
      ]
     },
     "execution_count": 49,
     "metadata": {},
     "output_type": "execute_result"
    }
   ],
   "source": [
    "H = jax.hessian(_loss)(init_params)\n",
    "H[\"params\"][\"dense1\"][\"kernel\"][\"params\"][\"dense1\"][\"bias\"]"
   ]
  },
  {
   "cell_type": "code",
   "execution_count": 173,
   "metadata": {},
   "outputs": [],
   "source": [
    "from magpi.sfn import SFN\n",
    "states = []\n",
    "\n",
    "def cb(step):\n",
    "    s = step\n",
    "    states.append(s.state)\n",
    "\n",
    "solver = SFN(loss, tol=1e-4, k=10, jit=True, \n",
    "             maxiter=1000, tol_subproblem=1e-5, init_tr_radius=0.1, max_tr_radius=0.1,\n",
    "             damping_parameter=1e-3, callback=cb, maxiter_subproblem=100)\n",
    "res = solver.run(init_params, X, y)"
   ]
  },
  {
   "cell_type": "code",
   "execution_count": 7,
   "metadata": {},
   "outputs": [
    {
     "data": {
      "text/plain": [
       "(Array(1853.4473, dtype=float32),\n",
       " Array(51.22439, dtype=float32),\n",
       " Array(-0.28576925, dtype=float32))"
      ]
     },
     "execution_count": 7,
     "metadata": {},
     "output_type": "execute_result"
    }
   ],
   "source": [
    "res.state.error, res.state.value, res.state.rho"
   ]
  },
  {
   "cell_type": "code",
   "execution_count": 30,
   "metadata": {},
   "outputs": [
    {
     "data": {
      "text/plain": [
       "Array(0.1, dtype=float32, weak_type=True)"
      ]
     },
     "execution_count": 30,
     "metadata": {},
     "output_type": "execute_result"
    }
   ],
   "source": [
    "res.state.tr_radius"
   ]
  },
  {
   "cell_type": "code",
   "execution_count": 31,
   "metadata": {},
   "outputs": [
    {
     "data": {
      "text/plain": [
       "(Array(384279.4, dtype=float32),\n",
       " Array(0.1, dtype=float32),\n",
       " Array(0.99955773, dtype=float32),\n",
       " Array(True, dtype=bool))"
      ]
     },
     "execution_count": 31,
     "metadata": {},
     "output_type": "execute_result"
    }
   ],
   "source": [
    "\n",
    "loss(res.params, X, y), tree_l2_norm(res.state.last_update), res.state.rho, res.state.subproblem_converged"
   ]
  },
  {
   "cell_type": "code",
   "execution_count": 68,
   "metadata": {},
   "outputs": [
    {
     "data": {
      "text/plain": [
       "[<matplotlib.lines.Line2D at 0x72a9ba20ed90>]"
      ]
     },
     "execution_count": 68,
     "metadata": {},
     "output_type": "execute_result"
    },
    {
     "data": {
      "image/png": "[encoded data removed]",
      "text/plain": [
       "<Figure size 640x480 with 1 Axes>"
      ]
     },
     "metadata": {},
     "output_type": "display_data"
    }
   ],
   "source": [
    "import matplotlib.pyplot as plt\n",
    "\n",
    "plt.figure()\n",
    "plt.plot([s.error for s in states])"
   ]
  },
  {
   "cell_type": "code",
   "execution_count": 43,
   "metadata": {},
   "outputs": [],
   "source": [
    "H = array([[1.0, 2.0, 3.0], [2.0, 1.0, 2.0], [3.0, 2.0, 1.0]])\n",
    "H = H @ H\n",
    "\n",
    "def f(x):\n",
    "    x = asarray(x)\n",
    "    return x @ H @ x\n",
    "r0 = array([1.0, 1.2, 0.5])\n"
   ]
  },
  {
   "cell_type": "code",
   "execution_count": 46,
   "metadata": {},
   "outputs": [
    {
     "data": {
      "text/plain": [
       "Array([[28.01467 , 19.994326, 20.009996],\n",
       "       [19.994326, 17.979872, 19.990547],\n",
       "       [20.009996, 19.990545, 28.005455]], dtype=float32)"
      ]
     },
     "execution_count": 46,
     "metadata": {},
     "output_type": "execute_result"
    }
   ],
   "source": [
    "hvp = lambda p: calc.hvp_forward_over_reverse(f, (r0,), (p,))\n",
    "df = grad(f)(r0)\n",
    "V, W, _, _ = lanczos_iteration(3, -df, hvp)\n",
    "G = V @ W.T\n",
    "_hessian(G, V)"
   ]
  },
  {
   "cell_type": "code",
   "execution_count": 30,
   "metadata": {},
   "outputs": [
    {
     "data": {
      "text/plain": [
       "Array([[26.9479  , 21.069994, 20.173332],\n",
       "       [21.069994, 17.43974 , 19.354792],\n",
       "       [20.17333 , 19.354792, 28.387959]], dtype=float32)"
      ]
     },
     "execution_count": 30,
     "metadata": {},
     "output_type": "execute_result"
    }
   ],
   "source": [
    "_hessian(G, V)"
   ]
  },
  {
   "cell_type": "code",
   "execution_count": 31,
   "metadata": {},
   "outputs": [
    {
     "data": {
      "text/plain": [
       "Array([[28., 20., 20.],\n",
       "       [20., 18., 20.],\n",
       "       [20., 20., 28.]], dtype=float32)"
      ]
     },
     "execution_count": 31,
     "metadata": {},
     "output_type": "execute_result"
    }
   ],
   "source": [
    "jax.hessian(f)(r0)"
   ]
  },
  {
   "cell_type": "code",
   "execution_count": 150,
   "metadata": {},
   "outputs": [
    {
     "data": {
      "text/plain": [
       "Array([[14., 10., 10.],\n",
       "       [10.,  9., 10.],\n",
       "       [10., 10., 14.]], dtype=float32)"
      ]
     },
     "execution_count": 150,
     "metadata": {},
     "output_type": "execute_result"
    }
   ],
   "source": [
    "H"
   ]
  },
  {
   "cell_type": "code",
   "execution_count": 9,
   "metadata": {},
   "outputs": [],
   "source": [
    "from magpi.sfn import *\n",
    "solver = SFN(f, tol=1e-6, k=2, jit=True, maxiter=10, init_tr_radius=2.0, maxiter_subproblem=20, tol_subproblem=1e-5)\n",
    "res = solver.run(r0)"
   ]
  },
  {
   "cell_type": "code",
   "execution_count": 36,
   "metadata": {},
   "outputs": [
    {
     "data": {
      "text/plain": [
       "(Array([-7.071068, -9.999998, -7.071066], dtype=float32),\n",
       " Array(-241.42126, dtype=float32),\n",
       " Array(-25., dtype=float32))"
      ]
     },
     "execution_count": 36,
     "metadata": {},
     "output_type": "execute_result"
    }
   ],
   "source": [
    "from jaxopt.linear_solve import solve_lu\n",
    "H = array([\n",
    "    [1, -1, 0],\n",
    "    [-1, 1, -1],\n",
    "    [0, -1, 1.],\n",
    "    ])\n",
    "\n",
    "def f(x):\n",
    "    x = asarray(x)\n",
    "    return 1 / 2 * x @ H @ x\n",
    "r0 = array([1,2,3.])\n",
    "df = grad(f)\n",
    "eigval, eigvec = jnp.linalg.eigh(H)\n",
    "H_inv = lambda lam: eigvec * 1 / (jnp.abs(eigval) + lam) @ eigvec.T\n",
    "x = 5 * r0#array([2, 0.5, 0.56]) \n",
    "#hvp = lambda t: calc.hvp_forward_over_reverse(f, (x,), (t,))\n",
    "#alpha = -solve_lu(hvp, df(x))\n",
    "#x = x / norm(x, keepdims=True)\n",
    "alpha = -H_inv(0.0) @ (df(x))\n",
    "x2 = x + alpha\n",
    "df(x2), f(x2), f(x)"
   ]
  },
  {
   "cell_type": "code",
   "execution_count": 37,
   "metadata": {},
   "outputs": [
    {
     "data": {
      "text/plain": [
       "Array([[ 1., -1.,  0.],\n",
       "       [-1.,  1., -1.],\n",
       "       [ 0., -1.,  1.]], dtype=float32)"
      ]
     },
     "execution_count": 37,
     "metadata": {},
     "output_type": "execute_result"
    }
   ],
   "source": [
    "jax.hessian(f)(r0)"
   ]
  },
  {
   "cell_type": "code",
   "execution_count": 42,
   "metadata": {},
   "outputs": [
    {
     "data": {
      "text/plain": [
       "Array([[ 9.9999988e-01, -1.0000000e+00,  1.0340384e-07],\n",
       "       [-1.0000000e+00,  1.0000001e+00, -1.0000002e+00],\n",
       "       [ 8.9458062e-08, -1.0000001e+00,  1.0000001e+00]], dtype=float32)"
      ]
     },
     "execution_count": 42,
     "metadata": {},
     "output_type": "execute_result"
    }
   ],
   "source": [
    "hvp = lambda p: calc.hvp_forward_over_reverse(f, (r0,), (p,))\n",
    "V, W, _, _ = lanczos_iteration(3, -grad(f)(r0), hvp)\n",
    "G = V @ W.T\n",
    "G.shape\n",
    "_hessian(G, V)"
   ]
  },
  {
   "cell_type": "code",
   "execution_count": 12,
   "metadata": {},
   "outputs": [],
   "source": [
    "r = 0.1\n",
    "g = eigvec.T @ df(x)\n",
    "gl = (1 / eigval) * g\n",
    "gl2 = (1 / sqrt(eigval)) * g\n",
    "d = (gl @ g) ** 2 - (g.T @ g) * (((gl).T @ (gl)) - (r ** 2))\n",
    "\n",
    "# (g @ g) / (2 * (-g @ gl + sqrt(d))), d\n",
    "c = -2 * gl2 @ gl2 / (norm(g) ** 2) - 2 * r / norm(g)\n",
    "lam = 1 / c"
   ]
  },
  {
   "cell_type": "code",
   "execution_count": 310,
   "metadata": {},
   "outputs": [
    {
     "data": {
      "text/plain": [
       "<matplotlib.legend.Legend at 0x7c19c5c35190>"
      ]
     },
     "execution_count": 310,
     "metadata": {},
     "output_type": "execute_result"
    },
    {
     "data": {
      "image/png": "[encoded data removed]",
      "text/plain": [
       "<Figure size 640x480 with 1 Axes>"
      ]
     },
     "metadata": {},
     "output_type": "display_data"
    }
   ],
   "source": [
    "import matplotlib.pyplot as plt\n",
    "_x = jnp.arange(240, 260, 1)\n",
    "y = [norm(-H_inv(l) @ df(x))**2 - r**2 for l in _x]\n",
    "y2 = [1 / r - 1/norm(-H_inv(l) @ df(x)) for l in _x]\n",
    "plt.figure()\n",
    "plt.plot(_x, y, label=\"y\")\n",
    "plt.plot(_x, y2, label=\"y2\")\n",
    "plt.legend()\n"
   ]
  },
  {
   "cell_type": "code",
   "execution_count": 321,
   "metadata": {},
   "outputs": [
    {
     "data": {
      "text/plain": [
       "Array(8.919835e-05, dtype=float32)"
      ]
     },
     "execution_count": 321,
     "metadata": {},
     "output_type": "execute_result"
    }
   ],
   "source": [
    "norm(-H_inv(248) @ df(x)) - r"
   ]
  },
  {
   "cell_type": "code",
   "execution_count": 325,
   "metadata": {},
   "outputs": [
    {
     "data": {
      "text/plain": [
       "Array(248.23785, dtype=float32)"
      ]
     },
     "execution_count": 325,
     "metadata": {},
     "output_type": "execute_result"
    }
   ],
   "source": [
    "h = df(x)\n",
    "phi = lambda l: 1 / r - 1 / norm((eigvec.T @ h) * (1 / (eigval + l)))\n",
    "10 - phi(10.) / jacfwd(phi)(10.)"
   ]
  },
  {
   "cell_type": "code",
   "execution_count": 307,
   "metadata": {},
   "outputs": [
    {
     "data": {
      "text/plain": [
       "(Array(0.74855316, dtype=float32), Array(0.7485532, dtype=float32))"
      ]
     },
     "execution_count": 307,
     "metadata": {},
     "output_type": "execute_result"
    }
   ],
   "source": [
    "h = df(x)\n",
    "norm(H_inv(5) @ h), norm((eigvec.T @ h) * (1 / (eigval + 5)))"
   ]
  },
  {
   "cell_type": "code",
   "execution_count": 328,
   "metadata": {},
   "outputs": [
    {
     "data": {
      "text/plain": [
       "Array(-2.8077025, dtype=float32)"
      ]
     },
     "execution_count": 328,
     "metadata": {},
     "output_type": "execute_result"
    }
   ],
   "source": [
    "-H_inv(248.23785) @ df(x) @ df(x)"
   ]
  },
  {
   "cell_type": "code",
   "execution_count": 200,
   "metadata": {},
   "outputs": [
    {
     "data": {
      "text/plain": [
       "Array(2.13626, dtype=float32)"
      ]
     },
     "execution_count": 200,
     "metadata": {},
     "output_type": "execute_result"
    }
   ],
   "source": [
    "norm(alpha)"
   ]
  },
  {
   "cell_type": "code",
   "execution_count": 234,
   "metadata": {},
   "outputs": [
    {
     "data": {
      "text/plain": [
       "(Array(588.0626, dtype=float32), Array(591.1874, dtype=float32))"
      ]
     },
     "execution_count": 234,
     "metadata": {},
     "output_type": "execute_result"
    }
   ],
   "source": [
    "(gl2 @ gl2) ** 2, (g @ g) * (gl2 @ (gl2 * (1 / eigval))"
   ]
  },
  {
   "cell_type": "code",
   "execution_count": 192,
   "metadata": {},
   "outputs": [
    {
     "data": {
      "text/plain": [
       "Array([[ 0.35758036, -0.5178662 ,  0.11367787],\n",
       "       [-0.5178662 ,  1.2480574 , -0.5178661 ],\n",
       "       [ 0.11367788, -0.5178661 ,  0.35758027]], dtype=float32)"
      ]
     },
     "execution_count": 192,
     "metadata": {},
     "output_type": "execute_result"
    }
   ],
   "source": [
    "jnp.linalg.inv(H + jnp.eye(3) * 0.1)"
   ]
  },
  {
   "cell_type": "code",
   "execution_count": 194,
   "metadata": {},
   "outputs": [
    {
     "data": {
      "text/plain": [
       "Array([[ 9.9998624e-07, -1.0034596e-11, -9.8756220e-12],\n",
       "       [-1.0016698e-11,  9.9999113e-07, -9.9859730e-12],\n",
       "       [-9.8772934e-12, -9.9484500e-12,  9.9998613e-07]], dtype=float32)"
      ]
     },
     "execution_count": 194,
     "metadata": {},
     "output_type": "execute_result"
    }
   ],
   "source": [
    "H_inv = lambda lam: eigvec * 1 / (jnp.abs(eigval) + lam) @ eigvec.T\n",
    "H_inv(1000000)"
   ]
  },
  {
   "cell_type": "code",
   "execution_count": 62,
   "metadata": {},
   "outputs": [
    {
     "data": {
      "text/plain": [
       "Array([-0.50471073, -1.0182347 ,  1.8088859 ], dtype=float32)"
      ]
     },
     "execution_count": 62,
     "metadata": {},
     "output_type": "execute_result"
    }
   ],
   "source": [
    "gl"
   ]
  }
 ],
 "metadata": {
  "kernelspec": {
   "display_name": "ML2",
   "language": "python",
   "name": "python3"
  },
  "language_info": {
   "codemirror_mode": {
    "name": "ipython",
    "version": 3
   },
   "file_extension": ".py",
   "mimetype": "text/x-python",
   "name": "python",
   "nbconvert_exporter": "python",
   "pygments_lexer": "ipython3",
   "version": "3.11.3"
  }
 },
 "nbformat": 4,
 "nbformat_minor": 2
}
