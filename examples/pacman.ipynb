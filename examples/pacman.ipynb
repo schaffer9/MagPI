{
 "cells": [
  {
   "cell_type": "code",
   "execution_count": null,
   "metadata": {},
   "outputs": [],
   "source": [
    "from magpi.prelude import *\n",
    "from magpi.r_fun import r0, sphere, translate\n",
    "import matplotlib.pyplot as plt\n",
    "import numpy as np\n",
    "from skimage import measure\n",
    "from mpl_toolkits.mplot3d.art3d import Poly3DCollection\n",
    "from matplotlib.colors import LightSource\n",
    "\n",
    "%matplotlib widget"
   ]
  },
  {
   "cell_type": "code",
   "execution_count": null,
   "metadata": {},
   "outputs": [],
   "source": [
    "# create Pacman ADF from R0 system\n",
    "\n",
    "unit_vec = lambda x: x / jnp.linalg.norm(x, axis=-1, keepdims=True)\n",
    "mouth = r0.intersection(\n",
    "    lambda x: jnp.dot(x, unit_vec(jnp.array([1., 0., -1.8]))),\n",
    "    lambda x: jnp.dot(x, unit_vec(jnp.array([1., 0., 1.8])))\n",
    ")\n",
    "left_eye = translate(sphere(0.25), [0.4, -0.5, 0.6])\n",
    "right_eye = translate(sphere(0.25), [0.4, 0.5, 0.6])\n",
    "pacman = r0.difference(sphere(1.), mouth)\n",
    "pacman = r0.union(pacman, left_eye)\n",
    "pacman = r0.union(pacman, right_eye)\n",
    "pacman = r0.union(pacman, translate(sphere(0.15), [1., 0., 0]))\n",
    "pacman = r0.union(pacman, translate(sphere(0.15), [2., 0., 0]))\n",
    "pacman = jax.jit(pacman)"
   ]
  },
  {
   "cell_type": "code",
   "execution_count": null,
   "metadata": {},
   "outputs": [],
   "source": [
    "resolution = 50\n",
    "X = jnp.meshgrid(\n",
    "    jnp.linspace(-1.5, 2.5, resolution),\n",
    "    jnp.linspace(-1.5, 1.5, resolution),\n",
    "    jnp.linspace(-1.5, 1.5, resolution),\n",
    ")\n",
    "X = jnp.stack(X, axis=-1)\n",
    "Z = jnp.apply_along_axis(pacman, -1, X)\n",
    "Z = np.array(Z)\n",
    "verts, faces, normals, values = measure.marching_cubes(\n",
    "    Z, 0., \n",
    "    spacing=(1 / resolution, 1 / resolution, 1 / resolution)\n",
    ")\n",
    "\n",
    "fig = plt.figure(figsize=(7, 7))\n",
    "ax = fig.add_subplot(111, projection='3d')\n",
    "\n",
    "ls = LightSource(-180, -120)\n",
    "mesh = Poly3DCollection(\n",
    "    verts[faces], \n",
    "    alpha=1.0,\n",
    "    shade=True,\n",
    "    lightsource=ls,\n",
    "    facecolors=\"yellow\",\n",
    ")\n",
    "\n",
    "ax.add_collection3d(mesh)\n",
    "\n",
    "\n",
    "ax.set_xlim(0., 1)\n",
    "ax.set_ylim(0.2, 0.8)\n",
    "ax.set_zlim(0.2, 0.8)\n",
    "ax.view_init(10, 50)\n",
    "plt.axis(\"off\")\n",
    "plt.tight_layout()"
   ]
  },
  {
   "cell_type": "code",
   "execution_count": null,
   "metadata": {},
   "outputs": [],
   "source": []
  }
 ],
 "metadata": {
  "kernelspec": {
   "display_name": "ML",
   "language": "python",
   "name": "python3"
  },
  "language_info": {
   "codemirror_mode": {
    "name": "ipython",
    "version": 3
   },
   "file_extension": ".py",
   "mimetype": "text/x-python",
   "name": "python",
   "nbconvert_exporter": "python",
   "pygments_lexer": "ipython3",
   "version": "3.11.5"
  }
 },
 "nbformat": 4,
 "nbformat_minor": 2
}
