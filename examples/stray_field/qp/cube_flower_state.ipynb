{
 "cells": [
  {
   "cell_type": "code",
   "execution_count": null,
   "metadata": {},
   "outputs": [],
   "source": [
    "%env PATH=/usr/local/cuda-11.5/bin:$PATH\n",
    "%load_ext autoreload\n",
    "%autoreload 2\n",
    "%matplotlib widget"
   ]
  },
  {
   "cell_type": "code",
   "execution_count": null,
   "metadata": {},
   "outputs": [],
   "source": [
    "from pinns.prelude import *\n",
    "from pinns.domain import Sphere\n",
    "from pinns.calc import divergence\n",
    "from pinns.krr import krr, rbf\n",
    "from pinns.elm import elm\n",
    "from pinns.pde import poisson_dirichlet_qp_mc, poisson_dirichlet_ecqp_mc\n",
    "from scipy.stats.qmc import Sobol\n",
    "\n",
    "import itertools\n",
    "import numpy as np\n",
    "import matplotlib.pyplot as plt\n",
    "from jax.config import config\n",
    "config.update(\"jax_enable_x64\", True)"
   ]
  },
  {
   "cell_type": "code",
   "execution_count": null,
   "metadata": {},
   "outputs": [],
   "source": [
    "domain = Sphere(1., (0., 0., 0.))\n",
    "x_dom = array(Sobol(3, seed=0).random_base2(12))\n",
    "x_dom = domain.transform(x_dom)\n",
    "x_bnd = array(Sobol(2, seed=1).random_base2(9))\n",
    "x_bnd = domain.transform_bnd(x_bnd)\n",
    "\n",
    "x_support_dom = x_dom[:2**8]\n",
    "x_support_bnd = x_bnd[:2**6]"
   ]
  },
  {
   "cell_type": "code",
   "execution_count": null,
   "metadata": {},
   "outputs": [],
   "source": [
    "def plot_result(sol, ax):\n",
    "    plt.sca(ax)\n",
    "    N = 200\n",
    "    x = np.linspace(-1, 1, N)\n",
    "    z = np.linspace(-1, 1, N)\n",
    "    X = np.array([_x for _x in itertools.product(x, z)])\n",
    "    _X = jnp.asarray(X)\n",
    "    _X = jnp.insert(_X, array([1]), zeros((N * N, 1)), 1)\n",
    "    phi = np.array(sol(_X))\n",
    "    phi[np.linalg.norm(X, axis=-1) > 1.] = np.nan\n",
    "\n",
    "    p = ax.contourf(x, z, phi.reshape(N, N).T, 20, cmap=plt.get_cmap(\"autumn\"), alpha=0.5)\n",
    "    plt.colorbar(p)\n",
    "\n",
    "\n",
    "def plot_model(model):\n",
    "    fig = plt.figure(figsize=(8, 3))\n",
    "    ax1, ax2 = fig.subplots(1, 2)\n",
    "    fig.subplots_adjust(wspace=0.4)\n",
    "    plot_result(model, ax1)\n",
    "    ax1.set_title(\"Model\")    \n",
    "    plot_result(lambda x: abs(model(x) - norm(x, axis=-1) + 1), ax2)\n",
    "    ax2.set_title(\"abs error\")\n"
   ]
  },
  {
   "cell_type": "code",
   "execution_count": null,
   "metadata": {},
   "outputs": [],
   "source": [
    "weights = array(Sobol(4, seed=12345).random_base2(8))\n",
    "W = (weights[:, :3] * 2 - 1)\n",
    "b = (weights[:, 3] * 2 - 1)\n",
    "\n",
    "\n",
    "m = lambda x: x / norm(x)\n",
    "f = lambda x: -divergence(m)(x)\n",
    "#l = lambda x: (1 - norm(x))\n",
    "n = lambda x: jax.nn.normalize(-grad(l)(x))\n",
    "h = lambda x: tanh(W @ x + b)\n",
    "#h = lambda x: exp(- 40 * (W @ x + b)**2)\n",
    "u = lambda x: l(x) * h(x)\n",
    "#u = lambda x: l(x) * exp(-1 * (W @ x + b)**2)\n",
    "g1 = lambda x: 0.\n",
    "\n",
    "phi1 = poisson_dirichlet_qp_mc(u, g1, x_dom, f, tol=1e-9, maxiter=4000)"
   ]
  },
  {
   "cell_type": "code",
   "execution_count": null,
   "metadata": {},
   "outputs": [],
   "source": [
    "def phi2_solution(x, x_bnd):\n",
    "    eps = 1e-7\n",
    "    def g(y):\n",
    "        return dot(m(y), n(y)) - dot(grad(phi1)(y), n(y))\n",
    "    \n",
    "    dist = vmap(lambda x: norm(x - x_bnd, axis=-1))(x)\n",
    "    _g = vmap(g)(x_bnd)\n",
    "    def kernel(dist):\n",
    "        idx = dist > eps\n",
    "        newton_kernel = where(idx, 1 / dist, 0.)\n",
    "        N = jnp.count_nonzero(idx)\n",
    "        return (4 * pi * 1. ** 2) / (4 * pi * N) * dot(newton_kernel, _g)\n",
    "\n",
    "    return vmap(kernel)(dist)"
   ]
  }
 ],
 "metadata": {
  "kernelspec": {
   "display_name": "Python 3.10.4 ('AML')",
   "language": "python",
   "name": "python3"
  },
  "language_info": {
   "name": "python",
   "version": "3.10.4"
  },
  "orig_nbformat": 4,
  "vscode": {
   "interpreter": {
    "hash": "0a9032f720ad293db2c4640126356e6ab33c34b58e733ecf7d9b3402386a4959"
   }
  }
 },
 "nbformat": 4,
 "nbformat_minor": 2
}
