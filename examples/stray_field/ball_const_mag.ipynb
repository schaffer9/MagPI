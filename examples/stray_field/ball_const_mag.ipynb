{
 "cells": [
  {
   "cell_type": "code",
   "execution_count": null,
   "metadata": {},
   "outputs": [],
   "source": [
    "%matplotlib widget"
   ]
  },
  {
   "cell_type": "code",
   "execution_count": null,
   "metadata": {},
   "outputs": [],
   "source": [
    "from pinns.prelude import *\n",
    "from pinns.domain import Sphere\n",
    "from scipy.stats.qmc import Sobol\n",
    "\n",
    "import itertools\n",
    "import numpy as np\n",
    "import matplotlib.pyplot as plt\n",
    "from jax.config import config"
   ]
  },
  {
   "cell_type": "code",
   "execution_count": null,
   "metadata": {},
   "outputs": [],
   "source": [
    "domain = Sphere(1., (0., 0., 0.))\n",
    "x_dom = array(Sobol(3, seed=0).random_base2(10))\n",
    "x_dom = domain.transform(x_dom)\n",
    "x_bnd = array(Sobol(2, seed=1).random_base2(9))\n",
    "x_bnd = domain.transform_bnd(x_bnd)\n"
   ]
  },
  {
   "cell_type": "code",
   "execution_count": null,
   "metadata": {},
   "outputs": [],
   "source": [
    "def mag(x):\n",
    "    return array([0., 0., 1.])\n",
    "\n",
    "l = lambda x: (1 - norm(x) ** 2)"
   ]
  },
  {
   "cell_type": "code",
   "execution_count": null,
   "metadata": {},
   "outputs": [],
   "source": [
    "\n",
    "from pinns.elm import elm\n",
    "from pinns.calc import divergence, laplace\n",
    "def solve_stray_field(weights):\n",
    "    W_elm = (weights[:, :3] * 2 - 1) * 1\n",
    "    b_elm = (weights[:, 3] * 2 - 1) * 1\n",
    "\n",
    "\n",
    "    def unit_vec(x):\n",
    "        return x / norm(x, axis=-1, keepdims=True)\n",
    "\n",
    "    _x_bnd = array(Sobol(2, seed=5123).random_base2(15))\n",
    "    _x_bnd = domain.transform_bnd(_x_bnd)\n",
    "\n",
    "    def phi2_solution(x, x_bnd, phi1, l, m):\n",
    "        eps = 1e-9\n",
    "        def g(y):\n",
    "            n = -unit_vec(grad(l)(y))\n",
    "            return dot(m(y), n) - dot(grad(phi1)(y), n)\n",
    "        \n",
    "        dist = vmap(lambda x: norm(x - x_bnd, axis=-1))(x)\n",
    "        _g = vmap(g)(x_bnd)\n",
    "        def kernel(dist):\n",
    "            idx = dist > eps\n",
    "            newton_kernel = where(idx, 1 / dist, 0.)\n",
    "            N = jnp.count_nonzero(idx)\n",
    "            return 1 / N * dot(newton_kernel, _g)\n",
    "\n",
    "        return vmap(kernel)(dist)\n",
    "\n",
    "    h_elm = lambda x: tanh(W_elm @ x + b_elm)\n",
    "    u_elm = lambda x: l(x) * h_elm(x)\n",
    "    Q_elm = vmap(lambda x: -laplace(u_elm)(x))(x_dom)\n",
    "    U_elm, S_elm, VT_elm = jax.scipy.linalg.svd(Q_elm, full_matrices=False, lapack_driver=\"gesvd\")\n",
    "    H_bnd_elm = vmap(h_elm)(x_bnd)\n",
    "    U_bnd_elm, S_bnd_elm, VT_bnd_elm = jax.scipy.linalg.svd(H_bnd_elm, full_matrices=False, lapack_driver=\"gesvd\")\n",
    "\n",
    "    def _solve_stray_field(m):\n",
    "        f = lambda x: -divergence(m)(x)\n",
    "        b1 = vmap(f)(x_dom)\n",
    "        params_phi1 = VT_elm.T @ ((1 / S_elm) * (U_elm.T @ b1))\n",
    "        phi1 = lambda x: u_elm(x) @ params_phi1\n",
    "        phi_bnd = phi2_solution(x_bnd, _x_bnd, phi1, l, m)\n",
    "        params_phi_bnd = VT_bnd_elm.T @ ((1 / S_bnd_elm) * (U_bnd_elm.T @ phi_bnd))\n",
    "        g2 = lambda x: h_elm(x) @ params_phi_bnd\n",
    "        b2 = vmap(laplace(g2))(x_dom)\n",
    "        params_phi2 = VT_elm.T @ ((1 / S_elm) * (U_elm.T @ b2))\n",
    "        phi2 = lambda x: u_elm(x) @ params_phi2 + g2(x)\n",
    "        phi_nn = lambda x: phi1(x) + phi2(x)\n",
    "        return phi_nn\n",
    "    \n",
    "    return _solve_stray_field(mag)"
   ]
  },
  {
   "cell_type": "code",
   "execution_count": null,
   "metadata": {},
   "outputs": [],
   "source": [
    "weights16 = array(Sobol(4, seed=13).random_base2(4))\n",
    "weights32 = array(Sobol(4, seed=13).random_base2(5))\n",
    "phi16 = solve_stray_field(weights16)\n",
    "phi32 = solve_stray_field(weights32)"
   ]
  },
  {
   "cell_type": "code",
   "execution_count": null,
   "metadata": {},
   "outputs": [],
   "source": [
    "import matplotlib.pyplot as plt\n",
    "font = {'family' : 'serif',\n",
    "    'serif': 'helvet',\n",
    "    'weight' : 'bold',\n",
    "    'size' : 12\n",
    "}\n",
    "\n",
    "plt.rc('font', **font)\n",
    "plt.rc('text', usetex=True)\n",
    "\n",
    "def plot(model, filename=None):\n",
    "\n",
    "    def plot_result(sol, ax):\n",
    "        plt.sca(ax)\n",
    "        N = 200\n",
    "        x = np.linspace(-1, 1, N)\n",
    "        z = np.linspace(-1, 1, N)\n",
    "        X = np.array([_x for _x in itertools.product(x, z)])\n",
    "        _X = jnp.asarray(X)\n",
    "        _X = jnp.insert(_X, array([1]), zeros((N * N, 1)), 1)\n",
    "        phi = np.array(sol(_X))\n",
    "        phi[np.linalg.norm(X, axis=-1) > 1.] = np.nan\n",
    "\n",
    "        p = ax.contourf(x, z, phi.reshape(N, N).T, 20, cmap=plt.get_cmap(\"YlOrRd\"), alpha=0.5)\n",
    "        plt.colorbar(p)\n",
    "\n",
    "    def plot_model(model):\n",
    "        fig = plt.figure(figsize=(8, 3))\n",
    "        fig.tight_layout()\n",
    "        ax1, ax2 = fig.subplots(1, 2)\n",
    "        fig.subplots_adjust(wspace=0.4)\n",
    "        plot_result(model, ax1)\n",
    "        ax1.set_title(\"ELM\", size=14)\n",
    "        ax1.xaxis.set_ticklabels([])\n",
    "        ax1.yaxis.set_ticklabels([])\n",
    "        ax1.axis('off')\n",
    "        ax1.set_aspect('equal', 'box')\n",
    "        plot_result(lambda x: abs(model(x) - x[..., 2] / 3), ax2)\n",
    "        ax2.set_title(\"Absolute error\", size=14)\n",
    "        ax2.xaxis.set_ticklabels([])\n",
    "        ax2.yaxis.set_ticklabels([])\n",
    "        ax2.axis('off')\n",
    "        ax2.set_aspect('equal', 'box')\n",
    "        fig.tight_layout()\n",
    "        return fig\n",
    "    \n",
    "    fig = plot_model(vmap(model))\n",
    "    if filename is not None:\n",
    "        fig.savefig(filename)"
   ]
  },
  {
   "cell_type": "code",
   "execution_count": null,
   "metadata": {},
   "outputs": [],
   "source": [
    "plot(phi16)\n",
    "# plot(phi16, \"sphere_unit_mag_16.pdf\")"
   ]
  },
  {
   "cell_type": "code",
   "execution_count": null,
   "metadata": {},
   "outputs": [],
   "source": [
    "plot(phi32)\n",
    "# plot(phi32, \"sphere_unit_mag_32.pdf\")"
   ]
  },
  {
   "cell_type": "code",
   "execution_count": null,
   "metadata": {},
   "outputs": [],
   "source": [
    "def ed(model, x):\n",
    "    Ms = 1.\n",
    "    H = lambda x: -grad(model)(x)\n",
    "    e = lambda x: dot(mag(x), H(x)) \n",
    "    return -jnp.sum(vmap(e)(x)) / len(x) * pi / 3"
   ]
  },
  {
   "cell_type": "code",
   "execution_count": null,
   "metadata": {},
   "outputs": [],
   "source": [
    "print(f\"mag energy for 16 nodes {ed(phi16, x_dom):.4}\")\n",
    "print(f\"mag energy for 32 nodes {ed(phi32, x_dom):.4}\")\n",
    "print(f\"True mag energy {pi / 9:.4}\")"
   ]
  }
 ],
 "metadata": {
  "kernelspec": {
   "display_name": "ML",
   "language": "python",
   "name": "python3"
  },
  "language_info": {
   "codemirror_mode": {
    "name": "ipython",
    "version": 3
   },
   "file_extension": ".py",
   "mimetype": "text/x-python",
   "name": "python",
   "nbconvert_exporter": "python",
   "pygments_lexer": "ipython3",
   "version": "3.10.4"
  },
  "orig_nbformat": 4,
  "vscode": {
   "interpreter": {
    "hash": "884cdabbd2c598457d0baecfb8d8805b6c2cbdc539bbf2ae1d7c4fff24c986b1"
   }
  }
 },
 "nbformat": 4,
 "nbformat_minor": 2
}
