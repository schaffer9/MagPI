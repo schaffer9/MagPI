{
 "cells": [
  {
   "cell_type": "code",
   "execution_count": 1,
   "metadata": {},
   "outputs": [],
   "source": [
    "from magpi.prelude import *\n",
    "from magpi import calc"
   ]
  },
  {
   "cell_type": "code",
   "execution_count": 129,
   "metadata": {},
   "outputs": [
    {
     "data": {
      "text/plain": [
       "(Array([[ 0.60971075,  0.7316529 ,  0.30485538],\n",
       "        [ 0.15015638, -0.48427072,  0.86193675]], dtype=float32),\n",
       " Array([[18.901033, 15.730537, 17.681612],\n",
       "        [ 5.87885 ,  5.762495,  8.725971]], dtype=float32),\n",
       " Array([28.423792 ,  5.6133747], dtype=float32),\n",
       " Array([ 1.6401219, 10.460705 ], dtype=float32))"
      ]
     },
     "execution_count": 129,
     "metadata": {},
     "output_type": "execute_result"
    }
   ],
   "source": [
    "\n",
    "def _tree_set(M, v, i):\n",
    "    return tree_map(lambda M, v: M.at[i].set(v), M, v)\n",
    "\n",
    "def tree_is_zero(t):\n",
    "    return tree_reduce(lambda a, b: a & jnp.all(b == 0), t, jnp.array(True))\n",
    "\n",
    "def lanczos_iteration(k, w0, hvp, last_update=None, *args, **kwargs):\n",
    "    \n",
    "    alpha = zeros((k,))\n",
    "    beta = zeros((k,))\n",
    "    W = tree_map(lambda t: zeros((k, *t.shape)), w0)\n",
    "    V = tree_map(lambda t: zeros((k, *t.shape)), w0)\n",
    "    w_last = w0\n",
    "    v_last = tree_zeros_like(w0)\n",
    "    \n",
    "    def body(i, state):\n",
    "        (V, W, alpha, beta, v_last, w_last) = state\n",
    "        beta_i = tree_l2_norm(w_last)\n",
    "        vi = tree_scalar_mul(1 / beta_i, w_last)\n",
    "        if last_update is None:\n",
    "            wi = hvp(vi)\n",
    "        else:\n",
    "            wi = lax.cond(\n",
    "                tree_is_zero(last_update),\n",
    "                lambda: hvp(vi),\n",
    "                lambda: lax.cond(i == k-1, lambda: last_update, lambda: hvp(vi)\n",
    "                )\n",
    "            )\n",
    "        W = _tree_set(W, wi, i)\n",
    "        V = _tree_set(V, vi, i)\n",
    "        \n",
    "        alpha_i = tree_vdot(wi, vi)\n",
    "        wi = tree_sub(wi, tree_scalar_mul(alpha_i, vi))\n",
    "        wi = tree_sub(wi, tree_scalar_mul(beta_i, v_last))\n",
    "        alpha = alpha.at[i].set(alpha_i)\n",
    "        beta = beta.at[i].set(beta_i)\n",
    "        return (V, W, alpha, beta, vi, wi)\n",
    "\n",
    "    state = (V, W, alpha, beta, v_last, w_last)\n",
    "    (V, W, alpha, beta, _, _) = lax.fori_loop(0, k, body, state)\n",
    "    return V, W, alpha, beta\n",
    "        \n",
    "        \n",
    "# key = random.PRNGKey(42)\n",
    "# key, _key = random.split(key)\n",
    "# # x = random.uniform(_key, (10,))\n",
    "# last_update = tree_map(zeros_like, x)\n",
    "\n",
    "H = array([[1.0, 2.0, 3.0], [2.0, 1.0, 2.0], [3.0, 2.0, 1.0]])\n",
    "H = H @ H\n",
    "def hvp(p):\n",
    "    w = H @ asarray(p)\n",
    "    return w\n",
    "    #return w[0], w[1], w[2]\n",
    "\n",
    "def f(x):\n",
    "    return x @ H @ x\n",
    "\n",
    "def df(x):\n",
    "    return H @ x\n",
    "\n",
    "r0 = array([1.0, 1.2, 0.5])\n",
    "#r0 = (array(1.0), array(1.2), array(0.5))\n",
    "\n",
    "#hvp = lambda p, t: calc.hvp_forward_over_reverse(f, (p,), (t,))\n",
    "V, W, alpha, beta = lanczos_iteration(2, r0, hvp, None)#.shape\n",
    "V, W, alpha, beta"
   ]
  },
  {
   "cell_type": "code",
   "execution_count": 197,
   "metadata": {},
   "outputs": [],
   "source": [
    "from jaxopt import ScipyMinimize\n",
    "        \n",
    "def tree_gram(a, b):\n",
    "    vmap_left = jax.vmap(tree_vdot, in_axes=(0,None))\n",
    "    vmap_right = jax.vmap(vmap_left, in_axes=(None,0))\n",
    "    return vmap_right(a, b)\n",
    "\n",
    "x = r0\n",
    "\n",
    "def sfn(f, init_params, *args, **kwargs):\n",
    "    state = init_params\n",
    "    for k in range(5):\n",
    "        params = state\n",
    "        hvp = lambda p: calc.hvp_forward_over_reverse(f, (params,), (p,), *args, **kwargs)\n",
    "        g = grad(f)(params)\n",
    "        V, W, alpha, beta = lanczos_iteration(3, -g, hvp, None)\n",
    "        G = tree_gram(V, W)\n",
    "        lam, v = jnp.linalg.eigh(G)\n",
    "        def _fun(alpha, params):\n",
    "            return f(params + alpha @ V)\n",
    "            \n",
    "        def fun(l, params, g):\n",
    "            return _fun(v.T * 1 / (jnp.abs(lam) + l) @ v @ g, params)\n",
    "        a = zeros_like(alpha)\n",
    "        _state = (params, a)\n",
    "        g = -grad(_fun)(a, params)\n",
    "        for i in range(20):\n",
    "            params, alpha = _state\n",
    "            solver = ScipyMinimize(\"Newton-CG\", fun=fun, tol=1e-6)\n",
    "            l,_ = solver.run(1.0, params, g)\n",
    "            alpha = v.T * 1 / (jnp.abs(lam) + l) @ v @ g\n",
    "            params = params + alpha @ V\n",
    "            _state = (params, alpha)\n",
    "        \n",
    "        state = params\n",
    "\n",
    "    return params"
   ]
  },
  {
   "cell_type": "code",
   "execution_count": 198,
   "metadata": {},
   "outputs": [],
   "source": [
    "params = sfn(f, ones((3,)))"
   ]
  },
  {
   "cell_type": "code",
   "execution_count": 199,
   "metadata": {},
   "outputs": [
    {
     "data": {
      "text/plain": [
       "(Array(36172432., dtype=float32), Array(76.46, dtype=float32))"
      ]
     },
     "execution_count": 199,
     "metadata": {},
     "output_type": "execute_result"
    }
   ],
   "source": [
    "f(params), f(r0)"
   ]
  },
  {
   "cell_type": "code",
   "execution_count": 169,
   "metadata": {},
   "outputs": [
    {
     "data": {
      "text/plain": [
       "Array([-7.152033 , -6.4241576, -7.6393805], dtype=float32)"
      ]
     },
     "execution_count": 169,
     "metadata": {},
     "output_type": "execute_result"
    }
   ],
   "source": [
    "params"
   ]
  },
  {
   "cell_type": "code",
   "execution_count": 83,
   "metadata": {},
   "outputs": [
    {
     "data": {
      "text/plain": [
       "Array(6939.327, dtype=float32)"
      ]
     },
     "execution_count": 83,
     "metadata": {},
     "output_type": "execute_result"
    }
   ],
   "source": [
    "fun(1., alpha)"
   ]
  },
  {
   "cell_type": "code",
   "execution_count": null,
   "metadata": {},
   "outputs": [],
   "source": [
    "v.T * jnp.abs(lam) @ v, G"
   ]
  },
  {
   "cell_type": "code",
   "execution_count": 64,
   "metadata": {},
   "outputs": [],
   "source": []
  },
  {
   "cell_type": "code",
   "execution_count": 70,
   "metadata": {},
   "outputs": [
    {
     "data": {
      "text/plain": [
       "(Array([[5.1206317, 1.4842291],\n",
       "        [1.484229 , 1.8428023]], dtype=float32),\n",
       " Array([[ 4.7918215 ,  2.337143  ],\n",
       "        [ 2.337143  , -0.36961633]], dtype=float32))"
      ]
     },
     "execution_count": 70,
     "metadata": {},
     "output_type": "execute_result"
    }
   ],
   "source": [
    "v.T * jnp.abs(lam) @ v, G"
   ]
  },
  {
   "cell_type": "code",
   "execution_count": 45,
   "metadata": {},
   "outputs": [
    {
     "data": {
      "text/plain": [
       "Array(5.9604645e-08, dtype=float32)"
      ]
     },
     "execution_count": 45,
     "metadata": {},
     "output_type": "execute_result"
    }
   ],
   "source": [
    "tree_vdot(W, V)"
   ]
  },
  {
   "cell_type": "code",
   "execution_count": 37,
   "metadata": {},
   "outputs": [
    {
     "name": "stdout",
     "output_type": "stream",
     "text": [
      "Traced<ShapedArray(float32[])>with<DynamicJaxprTrace(level=1/0)>\n"
     ]
    },
    {
     "data": {
      "text/plain": [
       "((Array([0.60971075, 0.02822144], dtype=float32),\n",
       "  Array([ 0.7316529, -0.4044105], dtype=float32),\n",
       "  Array([0.30485538, 0.91414213], dtype=float32)),\n",
       " (Array([2.9875827, 1.9618268], dtype=float32),\n",
       "  Array([2.560785 , 1.4803166], dtype=float32),\n",
       "  Array([3.5972934 , 0.18998545], dtype=float32)),\n",
       " Array([ 4.7918215 , -0.36961633], dtype=float32),\n",
       " Array([1.6401219, 2.337143 ], dtype=float32))"
      ]
     },
     "execution_count": 37,
     "metadata": {},
     "output_type": "execute_result"
    }
   ],
   "source": [
    "V, W, alpha, beta = lanczos_iteration(2, r0, hvp, None)#.shape\n",
    "V, W, alpha, beta"
   ]
  },
  {
   "cell_type": "code",
   "execution_count": 28,
   "metadata": {},
   "outputs": [
    {
     "data": {
      "text/plain": [
       "Array([[ 4.7918215 ,  2.337143  ],\n",
       "       [ 2.337143  , -0.36961633]], dtype=float32)"
      ]
     },
     "execution_count": 28,
     "metadata": {},
     "output_type": "execute_result"
    }
   ],
   "source": [
    "V @ H @ V.T"
   ]
  },
  {
   "cell_type": "code",
   "execution_count": 26,
   "metadata": {},
   "outputs": [
    {
     "data": {
      "text/plain": [
       "Array([[1., 2., 3.],\n",
       "       [2., 1., 2.],\n",
       "       [3., 2., 1.]], dtype=float32)"
      ]
     },
     "execution_count": 26,
     "metadata": {},
     "output_type": "execute_result"
    }
   ],
   "source": [
    "H"
   ]
  },
  {
   "cell_type": "code",
   "execution_count": 48,
   "metadata": {},
   "outputs": [
    {
     "name": "stdout",
     "output_type": "stream",
     "text": [
      "foo\n",
      "foo\n",
      "foo\n",
      "foo\n"
     ]
    },
    {
     "data": {
      "text/plain": [
       "Array([[ 0.09587097,  1.1853564 ,  0.8064642 ,  1.3451769 ,  1.2022831 ,\n",
       "         1.2225151 ,  0.91227436,  1.4312901 ,  1.2658458 ,  0.08718801],\n",
       "       [-0.02851362, -0.35254464, -0.23985583, -0.40007794, -0.35757893,\n",
       "        -0.36359626, -0.2713255 , -0.4256894 , -0.3764835 , -0.02593116],\n",
       "       [-0.02851362, -0.35254464, -0.2398558 , -0.4000779 , -0.3575789 ,\n",
       "        -0.36359626, -0.2713255 , -0.4256894 , -0.37648347, -0.02593116],\n",
       "       [ 0.02851361,  0.35254458,  0.2398558 ,  0.40007788,  0.3575789 ,\n",
       "         0.3635962 ,  0.27132547,  0.42568937,  0.37648347,  0.02593116],\n",
       "       [ 0.06783528,  0.35184446,  0.25307408,  0.39350677,  0.3562569 ,\n",
       "         0.36153105,  0.28065687,  0.41595492,  0.37282652,  0.06557178]],      dtype=float32)"
      ]
     },
     "execution_count": 48,
     "metadata": {},
     "output_type": "execute_result"
    }
   ],
   "source": [
    "last_update = tree_map(zeros_like, x)\n",
    "df = grad(f)\n",
    "hvp = lambda p, t: calc.hvp_forward_over_reverse(f, (p,), (t,))\n",
    "lanczos_iteration(5, df, hvp, ones_like(last_update) * 10, x)#.shape"
   ]
  },
  {
   "cell_type": "code",
   "execution_count": 46,
   "metadata": {},
   "outputs": [
    {
     "data": {
      "text/plain": [
       "Array(True, dtype=bool)"
      ]
     },
     "execution_count": 46,
     "metadata": {},
     "output_type": "execute_result"
    }
   ],
   "source": [
    "tree_is_zero(last_update)"
   ]
  },
  {
   "cell_type": "code",
   "execution_count": 36,
   "metadata": {},
   "outputs": [
    {
     "name": "stdout",
     "output_type": "stream",
     "text": [
      "0.0 [0. 0. 0. 0. 0. 0. 0. 0. 0. 0.]\n"
     ]
    },
    {
     "data": {
      "text/plain": [
       "Array(0., dtype=float32)"
      ]
     },
     "execution_count": 36,
     "metadata": {},
     "output_type": "execute_result"
    }
   ],
   "source": [
    "def r(a, b):\n",
    "    print(a, b)\n",
    "    return jnp.sum(a) + jnp.sum(b)\n",
    "tree_reduce(r, last_update, 0.0)"
   ]
  },
  {
   "cell_type": "code",
   "execution_count": 38,
   "metadata": {},
   "outputs": [
    {
     "data": {
      "text/plain": [
       "Array(True, dtype=bool)"
      ]
     },
     "execution_count": 38,
     "metadata": {},
     "output_type": "execute_result"
    }
   ],
   "source": [
    "tree_reduce(lambda a, b: a & jnp.all(b == 0), last_update, jnp.array(True))"
   ]
  },
  {
   "cell_type": "code",
   "execution_count": 25,
   "metadata": {},
   "outputs": [
    {
     "data": {
      "text/plain": [
       "21"
      ]
     },
     "execution_count": 25,
     "metadata": {},
     "output_type": "execute_result"
    }
   ],
   "source": [
    "import operator\n",
    "jax.tree.reduce(operator.add, [1, (2, 3), [4, 5, 6]])"
   ]
  }
 ],
 "metadata": {
  "kernelspec": {
   "display_name": "ML2",
   "language": "python",
   "name": "python3"
  },
  "language_info": {
   "codemirror_mode": {
    "name": "ipython",
    "version": 3
   },
   "file_extension": ".py",
   "mimetype": "text/x-python",
   "name": "python",
   "nbconvert_exporter": "python",
   "pygments_lexer": "ipython3",
   "version": "3.12.2"
  }
 },
 "nbformat": 4,
 "nbformat_minor": 2
}
