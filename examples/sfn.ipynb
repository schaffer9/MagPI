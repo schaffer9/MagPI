{
 "cells": [
  {
   "cell_type": "code",
   "execution_count": 1,
   "metadata": {},
   "outputs": [],
   "source": [
    "from magpi.prelude import *\n",
    "from magpi import calc"
   ]
  },
  {
   "cell_type": "code",
   "execution_count": 2,
   "metadata": {},
   "outputs": [],
   "source": [
    "from sklearn import datasets\n",
    "ds = datasets.fetch_california_housing()"
   ]
  },
  {
   "cell_type": "code",
   "execution_count": 3,
   "metadata": {},
   "outputs": [
    {
     "data": {
      "text/plain": [
       "((20640, 8), (20640,))"
      ]
     },
     "execution_count": 3,
     "metadata": {},
     "output_type": "execute_result"
    }
   ],
   "source": [
    "X = array(ds[\"data\"])\n",
    "y = array(ds[\"target\"])\n",
    "X.shape, y.shape"
   ]
  },
  {
   "cell_type": "code",
   "execution_count": 12,
   "metadata": {},
   "outputs": [
    {
     "data": {
      "text/plain": [
       "Array(53.703754, dtype=float32)"
      ]
     },
     "execution_count": 12,
     "metadata": {},
     "output_type": "execute_result"
    }
   ],
   "source": [
    "key = random.PRNGKey(53)\n",
    "\n",
    "class NN(nn.Module):\n",
    "    @nn.compact\n",
    "    def __call__(self, x):\n",
    "        nodes = 15\n",
    "        activation = nn.gelu\n",
    "        x = activation(nn.Dense(nodes, name=\"dense1\")(x))\n",
    "        y = nn.Dense(1, name=\"dense4\")(x)\n",
    "        return y[0]\n",
    "\n",
    "model = NN()\n",
    "key, _key = random.split(key)\n",
    "init_params = model.init(_key, zeros((8,)))\n",
    "@jit\n",
    "def loss(params, X, y):\n",
    "    return mean((model.apply(params, X) - y) ** 2)\n",
    "\n",
    "loss(init_params, X, y)"
   ]
  },
  {
   "cell_type": "code",
   "execution_count": 28,
   "metadata": {},
   "outputs": [
    {
     "data": {
      "text/plain": [
       "151"
      ]
     },
     "execution_count": 28,
     "metadata": {},
     "output_type": "execute_result"
    }
   ],
   "source": [
    "import math\n",
    "def dim(params):\n",
    "    return sum([math.prod(p.shape) for p in tree_leaves(params)])\n"
   ]
  },
  {
   "cell_type": "code",
   "execution_count": 13,
   "metadata": {},
   "outputs": [],
   "source": [
    "from magpi.sfn import SFN\n",
    "states = []\n",
    "Vs = []\n",
    "Ws = []\n",
    "eigvals = []\n",
    "inner_states = []\n",
    "def cb(step):\n",
    "    s, eigval, V, W, inner_state = step\n",
    "    states.append(s.state)\n",
    "    Vs.append(V)\n",
    "    Ws.append(W)\n",
    "    eigvals.append(eigval)\n",
    "    inner_states.append(inner_state)\n",
    "solver = SFN(loss, tol=1e-3, k=4, jit=True, maxiter=10, tol_subproblem=1e-4, damping_parameter=1e-2, callback=cb)\n",
    "res = solver.run(init_params, X, y)"
   ]
  },
  {
   "cell_type": "code",
   "execution_count": 14,
   "metadata": {},
   "outputs": [
    {
     "data": {
      "text/plain": [
       "SFNState(iter_num=array(1, dtype=int32), value=array(nan, dtype=float32), grad={'params': {'dense1': {'bias': array([nan, nan, nan, nan, nan, nan, nan, nan, nan, nan, nan, nan, nan,\n",
       "       nan, nan], dtype=float32), 'kernel': array([[nan, nan, nan, nan, nan, nan, nan, nan, nan, nan, nan, nan, nan,\n",
       "        nan, nan],\n",
       "       [nan, nan, nan, nan, nan, nan, nan, nan, nan, nan, nan, nan, nan,\n",
       "        nan, nan],\n",
       "       [nan, nan, nan, nan, nan, nan, nan, nan, nan, nan, nan, nan, nan,\n",
       "        nan, nan],\n",
       "       [nan, nan, nan, nan, nan, nan, nan, nan, nan, nan, nan, nan, nan,\n",
       "        nan, nan],\n",
       "       [nan, nan, nan, nan, nan, nan, nan, nan, nan, nan, nan, nan, nan,\n",
       "        nan, nan],\n",
       "       [nan, nan, nan, nan, nan, nan, nan, nan, nan, nan, nan, nan, nan,\n",
       "        nan, nan],\n",
       "       [nan, nan, nan, nan, nan, nan, nan, nan, nan, nan, nan, nan, nan,\n",
       "        nan, nan],\n",
       "       [nan, nan, nan, nan, nan, nan, nan, nan, nan, nan, nan, nan, nan,\n",
       "        nan, nan]], dtype=float32)}, 'dense4': {'bias': array([nan], dtype=float32), 'kernel': array([[nan],\n",
       "       [nan],\n",
       "       [nan],\n",
       "       [nan],\n",
       "       [nan],\n",
       "       [nan],\n",
       "       [nan],\n",
       "       [nan],\n",
       "       [nan],\n",
       "       [nan],\n",
       "       [nan],\n",
       "       [nan],\n",
       "       [nan],\n",
       "       [nan],\n",
       "       [nan]], dtype=float32)}}}, error=array(nan, dtype=float32), last_update={'params': {'dense1': {'bias': array([nan, nan, nan, nan, nan, nan, nan, nan, nan, nan, nan, nan, nan,\n",
       "       nan, nan], dtype=float32), 'kernel': array([[nan, nan, nan, nan, nan, nan, nan, nan, nan, nan, nan, nan, nan,\n",
       "        nan, nan],\n",
       "       [nan, nan, nan, nan, nan, nan, nan, nan, nan, nan, nan, nan, nan,\n",
       "        nan, nan],\n",
       "       [nan, nan, nan, nan, nan, nan, nan, nan, nan, nan, nan, nan, nan,\n",
       "        nan, nan],\n",
       "       [nan, nan, nan, nan, nan, nan, nan, nan, nan, nan, nan, nan, nan,\n",
       "        nan, nan],\n",
       "       [nan, nan, nan, nan, nan, nan, nan, nan, nan, nan, nan, nan, nan,\n",
       "        nan, nan],\n",
       "       [nan, nan, nan, nan, nan, nan, nan, nan, nan, nan, nan, nan, nan,\n",
       "        nan, nan],\n",
       "       [nan, nan, nan, nan, nan, nan, nan, nan, nan, nan, nan, nan, nan,\n",
       "        nan, nan],\n",
       "       [nan, nan, nan, nan, nan, nan, nan, nan, nan, nan, nan, nan, nan,\n",
       "        nan, nan]], dtype=float32)}, 'dense4': {'bias': array([nan], dtype=float32), 'kernel': array([[nan],\n",
       "       [nan],\n",
       "       [nan],\n",
       "       [nan],\n",
       "       [nan],\n",
       "       [nan],\n",
       "       [nan],\n",
       "       [nan],\n",
       "       [nan],\n",
       "       [nan],\n",
       "       [nan],\n",
       "       [nan],\n",
       "       [nan],\n",
       "       [nan],\n",
       "       [nan]], dtype=float32)}}}, aux=None, subproblem_converged=array(False), subproblem_iter_num=array(151, dtype=int32), lbfgs_status=array(5, dtype=int32), lbfgs_value=array(nan, dtype=float32), lbfgs_iter=array(1, dtype=int32))"
      ]
     },
     "execution_count": 14,
     "metadata": {},
     "output_type": "execute_result"
    }
   ],
   "source": [
    "import numpy as np\n",
    "states[0]"
   ]
  },
  {
   "cell_type": "code",
   "execution_count": 26,
   "metadata": {},
   "outputs": [
    {
     "data": {
      "text/plain": [
       "array(151, dtype=int32)"
      ]
     },
     "execution_count": 26,
     "metadata": {},
     "output_type": "execute_result"
    }
   ],
   "source": [
    "inner_states[0][\"iter_num\"]"
   ]
  },
  {
   "cell_type": "code",
   "execution_count": 9,
   "metadata": {},
   "outputs": [
    {
     "data": {
      "text/plain": [
       "Array(0, dtype=int32, weak_type=True)"
      ]
     },
     "execution_count": 9,
     "metadata": {},
     "output_type": "execute_result"
    }
   ],
   "source": [
    "res.state.lbfgs_status"
   ]
  },
  {
   "cell_type": "code",
   "execution_count": 10,
   "metadata": {},
   "outputs": [
    {
     "data": {
      "text/plain": [
       "(Array(1.3315504, dtype=float32), Array(2.3297966e-05, dtype=float32))"
      ]
     },
     "execution_count": 10,
     "metadata": {},
     "output_type": "execute_result"
    }
   ],
   "source": [
    "\n",
    "loss(res.params, X, y), res.state.error"
   ]
  },
  {
   "cell_type": "code",
   "execution_count": 5,
   "metadata": {},
   "outputs": [],
   "source": [
    "from jaxopt.loop import while_loop\n",
    "\n",
    "def _tree_set(M, v, i):\n",
    "    return tree_map(lambda M, v: M.at[i].set(v), M, v)\n",
    "\n",
    "def tree_is_zero(t):\n",
    "    return tree_reduce(lambda a, b: a & jnp.all(b == 0), t, jnp.array(True))\n",
    "\n",
    "def _for_loop(lower, upper, body_fun, init_val, unroll=False, jit=True):\n",
    "    \n",
    "    def cond_fun(state):\n",
    "        i, _ = state\n",
    "        return i < upper\n",
    "        \n",
    "    def body(state):\n",
    "        i, state = state\n",
    "        state = body_fun(i, state)\n",
    "        return i + 1, state\n",
    "    \n",
    "    _, state = while_loop(cond_fun, body, (lower, init_val), maxiter=upper, unroll=unroll, jit=jit)\n",
    "    return state\n",
    "        \n",
    "def lanczos_iteration(k, w0, hvp, last_update=None, unroll=False, jit=True):\n",
    "    \n",
    "    alpha = zeros((k,))\n",
    "    beta = zeros((k,))\n",
    "    W = tree_map(lambda t: zeros((k, *t.shape)), w0)\n",
    "    V = tree_map(lambda t: zeros((k, *t.shape)), w0)\n",
    "    w_last = w0\n",
    "    v_last = tree_zeros_like(w0)\n",
    "    \n",
    "    def body(i, state):\n",
    "        (V, W, alpha, beta, v_last, w_last) = state\n",
    "        beta_i = tree_l2_norm(w_last)\n",
    "        vi = tree_scalar_mul(1 / beta_i, w_last)\n",
    "        if last_update is None:\n",
    "            wi = hvp(vi)\n",
    "        else:\n",
    "            wi = lax.cond(\n",
    "                tree_is_zero(last_update),\n",
    "                lambda: hvp(vi),\n",
    "                lambda: lax.cond(i == k-1, lambda: last_update, lambda: hvp(vi)\n",
    "                )\n",
    "            )\n",
    "        W = _tree_set(W, wi, i)\n",
    "        V = _tree_set(V, vi, i)\n",
    "        \n",
    "        alpha_i = tree_vdot(wi, vi)\n",
    "        wi = tree_sub(wi, tree_scalar_mul(alpha_i, vi))\n",
    "        wi = tree_sub(wi, tree_scalar_mul(beta_i, v_last))\n",
    "        alpha = alpha.at[i].set(alpha_i)\n",
    "        beta = beta.at[i].set(beta_i)\n",
    "        return (V, W, alpha, beta, vi, wi)\n",
    "\n",
    "    state = (V, W, alpha, beta, v_last, w_last)\n",
    "    (V, W, alpha, beta, _, _) = _for_loop(0, k, body, state, unroll=unroll, jit=jit)\n",
    "    return V, W, alpha, beta\n",
    "        \n",
    "        \n",
    "# key = random.PRNGKey(42)\n",
    "# key, _key = random.split(key)\n",
    "# # x = random.uniform(_key, (10,))\n",
    "# last_update = tree_map(zeros_like, x)\n",
    "\n",
    "H = array([[1.0, 2.0, 3.0], [2.0, 1.0, 2.0], [3.0, 2.0, 1.0]])\n",
    "#H = random.uniform(random.PRNGKey(53), (5,5))\n",
    "H = H @ H\n",
    "# def hvp(p):\n",
    "#     w = H @ asarray(p)\n",
    "#     return w\n",
    "#     return w[0], w[1], w[2]\n",
    "\n",
    "def f(x):\n",
    "    x = asarray(x)\n",
    "    return x @ H @ x\n",
    "\n",
    "# def df(x):\n",
    "#     return 2 * H @ asarray(x)\n",
    "\n",
    "#r0 = tuple(ones((5,)))\n",
    "r0 = (array(1.0), array(1.2), array(0.5))\n",
    "\n",
    "# #hvp = lambda p, t: calc.hvp_forward_over_reverse(f, (p,), (t,))\n",
    "# V, W, alpha, beta = lanczos_iteration(2, r0, hvp, None)#.shape\n",
    "# V, W, alpha, beta"
   ]
  },
  {
   "cell_type": "code",
   "execution_count": 10,
   "metadata": {},
   "outputs": [],
   "source": [
    "from magpi.sfn import SFN\n",
    "solver = SFN(f, tol=1e-6, k=2, jit=True, maxiter=100, tol_subproblem=1e-7)\n",
    "res = solver.run(r0)"
   ]
  },
  {
   "cell_type": "code",
   "execution_count": 11,
   "metadata": {},
   "outputs": [
    {
     "data": {
      "text/plain": [
       "OptStep(params=(Array(-6.333655e-08, dtype=float32, weak_type=True), Array(1.2683394e-07, dtype=float32, weak_type=True), Array(-6.333614e-08, dtype=float32, weak_type=True)), state=SFNState(iter_num=Array(39, dtype=int32, weak_type=True), value=Array(1.6005352e-14, dtype=float32), grad=(Array(-5.034674e-07, dtype=float32, weak_type=True), Array(-2.504429e-07, dtype=float32, weak_type=True), Array(-5.034642e-07, dtype=float32, weak_type=True)), error=Array(7.5476964e-07, dtype=float32), last_update=(Array(9.333407e-08, dtype=float32, weak_type=True), Array(-1.8774635e-07, dtype=float32, weak_type=True), Array(9.333463e-08, dtype=float32, weak_type=True)), aux=None, subproblem_converged=Array(True, dtype=bool), subproblem_iter_num=Array(3, dtype=int32, weak_type=True), lbfgs_status=Array(0, dtype=int32, weak_type=True), lbfgs_value=Array(6.4880263e-15, dtype=float32), lbfgs_iter=Array(0, dtype=int32, weak_type=True)))"
      ]
     },
     "execution_count": 11,
     "metadata": {},
     "output_type": "execute_result"
    }
   ],
   "source": [
    "res"
   ]
  },
  {
   "cell_type": "code",
   "execution_count": 8,
   "metadata": {},
   "outputs": [],
   "source": [
    "from jax.scipy.optimize import minimize\n",
    "from jaxopt._src.tree_util import tree_dot        \n",
    "\n",
    "def tree_gram(a, b):\n",
    "    vmap_left = jax.vmap(tree_vdot, in_axes=(0,None))\n",
    "    vmap_right = jax.vmap(vmap_left, in_axes=(None,0))\n",
    "    return vmap_right(a, b)\n",
    "\n",
    "def tree_matmul(a, b):\n",
    "    _matmul = jax.vmap(tree_vdot, in_axes=(0,None))\n",
    "    return _matmul(a, b)\n",
    "\n",
    "x = r0\n",
    "\n",
    "@partial(jit, static_argnames=(\"f\", ))\n",
    "def sfn(f, init_params, *args, **kwargs):\n",
    "    state = init_params\n",
    "    def body(i, state):\n",
    "        params = state\n",
    "        hvp = lambda p: calc.hvp_forward_over_reverse(f, (params,), (p,), *args, **kwargs)\n",
    "        g = tree_negative(grad(f)(params))\n",
    "        V, W, alpha, beta = lanczos_iteration(2, g, hvp, None)\n",
    "        G = tree_gram(V, W)\n",
    "        lam, v = jnp.linalg.eigh(G)\n",
    "            \n",
    "        def fun(l, params, g):\n",
    "            l = l[0]\n",
    "            H_inv = v.T * 1 / (jnp.abs(lam) + l) @ v\n",
    "            alpha = H_inv @ g\n",
    "            p = tree_add(params, tree_map(lambda v: alpha @ v, V))\n",
    "            return f(p)\n",
    "\n",
    "        def inner_body(i, state):\n",
    "            params, _ = state\n",
    "            g = grad(f)(params)\n",
    "            g = -tree_matmul(V, g)\n",
    "            result = minimize(fun, array([1.0]), (params, g),tol=1e-5, method=\"BFGS\")\n",
    "            l = result.x[0]\n",
    "            H_inv = v.T * 1 / (jnp.abs(lam) + l) @ v\n",
    "            alpha = H_inv @ g\n",
    "            params_update = tree_map(lambda v: alpha @ v, V)\n",
    "            params = tree_add(params, params_update)\n",
    "            return params, params_update\n",
    "        \n",
    "        params, params_update = lax.fori_loop(0, 10, inner_body, (params, tree_zeros_like(params)))\n",
    "        return params\n",
    "    params = lax.fori_loop(0, 30, body, state)\n",
    "\n",
    "    return params"
   ]
  },
  {
   "cell_type": "code",
   "execution_count": 11,
   "metadata": {},
   "outputs": [],
   "source": [
    "params = sfn(f, r0)"
   ]
  },
  {
   "cell_type": "code",
   "execution_count": 12,
   "metadata": {},
   "outputs": [
    {
     "data": {
      "text/plain": [
       "Array([ 1.4849604e-17, -3.5599283e-17,  1.5445608e-17], dtype=float32)"
      ]
     },
     "execution_count": 12,
     "metadata": {},
     "output_type": "execute_result"
    }
   ],
   "source": [
    "params"
   ]
  },
  {
   "cell_type": "code",
   "execution_count": 453,
   "metadata": {},
   "outputs": [
    {
     "data": {
      "text/plain": [
       "(Array(3.6786934e-27, dtype=float32), Array(76.46, dtype=float32))"
      ]
     },
     "execution_count": 453,
     "metadata": {},
     "output_type": "execute_result"
    }
   ],
   "source": [
    "f(params), f(r0)"
   ]
  },
  {
   "cell_type": "code",
   "execution_count": 169,
   "metadata": {},
   "outputs": [
    {
     "data": {
      "text/plain": [
       "Array([-7.152033 , -6.4241576, -7.6393805], dtype=float32)"
      ]
     },
     "execution_count": 169,
     "metadata": {},
     "output_type": "execute_result"
    }
   ],
   "source": [
    "params"
   ]
  },
  {
   "cell_type": "code",
   "execution_count": 83,
   "metadata": {},
   "outputs": [
    {
     "data": {
      "text/plain": [
       "Array(6939.327, dtype=float32)"
      ]
     },
     "execution_count": 83,
     "metadata": {},
     "output_type": "execute_result"
    }
   ],
   "source": [
    "fun(1., alpha)"
   ]
  },
  {
   "cell_type": "code",
   "execution_count": null,
   "metadata": {},
   "outputs": [],
   "source": [
    "v.T * jnp.abs(lam) @ v, G"
   ]
  },
  {
   "cell_type": "code",
   "execution_count": 64,
   "metadata": {},
   "outputs": [],
   "source": []
  },
  {
   "cell_type": "code",
   "execution_count": 70,
   "metadata": {},
   "outputs": [
    {
     "data": {
      "text/plain": [
       "(Array([[5.1206317, 1.4842291],\n",
       "        [1.484229 , 1.8428023]], dtype=float32),\n",
       " Array([[ 4.7918215 ,  2.337143  ],\n",
       "        [ 2.337143  , -0.36961633]], dtype=float32))"
      ]
     },
     "execution_count": 70,
     "metadata": {},
     "output_type": "execute_result"
    }
   ],
   "source": [
    "v.T * jnp.abs(lam) @ v, G"
   ]
  },
  {
   "cell_type": "code",
   "execution_count": 45,
   "metadata": {},
   "outputs": [
    {
     "data": {
      "text/plain": [
       "Array(5.9604645e-08, dtype=float32)"
      ]
     },
     "execution_count": 45,
     "metadata": {},
     "output_type": "execute_result"
    }
   ],
   "source": [
    "tree_vdot(W, V)"
   ]
  },
  {
   "cell_type": "code",
   "execution_count": 37,
   "metadata": {},
   "outputs": [
    {
     "name": "stdout",
     "output_type": "stream",
     "text": [
      "Traced<ShapedArray(float32[])>with<DynamicJaxprTrace(level=1/0)>\n"
     ]
    },
    {
     "data": {
      "text/plain": [
       "((Array([0.60971075, 0.02822144], dtype=float32),\n",
       "  Array([ 0.7316529, -0.4044105], dtype=float32),\n",
       "  Array([0.30485538, 0.91414213], dtype=float32)),\n",
       " (Array([2.9875827, 1.9618268], dtype=float32),\n",
       "  Array([2.560785 , 1.4803166], dtype=float32),\n",
       "  Array([3.5972934 , 0.18998545], dtype=float32)),\n",
       " Array([ 4.7918215 , -0.36961633], dtype=float32),\n",
       " Array([1.6401219, 2.337143 ], dtype=float32))"
      ]
     },
     "execution_count": 37,
     "metadata": {},
     "output_type": "execute_result"
    }
   ],
   "source": [
    "V, W, alpha, beta = lanczos_iteration(2, r0, hvp, None)#.shape\n",
    "V, W, alpha, beta"
   ]
  },
  {
   "cell_type": "code",
   "execution_count": 28,
   "metadata": {},
   "outputs": [
    {
     "data": {
      "text/plain": [
       "Array([[ 4.7918215 ,  2.337143  ],\n",
       "       [ 2.337143  , -0.36961633]], dtype=float32)"
      ]
     },
     "execution_count": 28,
     "metadata": {},
     "output_type": "execute_result"
    }
   ],
   "source": [
    "V @ H @ V.T"
   ]
  },
  {
   "cell_type": "code",
   "execution_count": 26,
   "metadata": {},
   "outputs": [
    {
     "data": {
      "text/plain": [
       "Array([[1., 2., 3.],\n",
       "       [2., 1., 2.],\n",
       "       [3., 2., 1.]], dtype=float32)"
      ]
     },
     "execution_count": 26,
     "metadata": {},
     "output_type": "execute_result"
    }
   ],
   "source": [
    "H"
   ]
  },
  {
   "cell_type": "code",
   "execution_count": 48,
   "metadata": {},
   "outputs": [
    {
     "name": "stdout",
     "output_type": "stream",
     "text": [
      "foo\n",
      "foo\n",
      "foo\n",
      "foo\n"
     ]
    },
    {
     "data": {
      "text/plain": [
       "Array([[ 0.09587097,  1.1853564 ,  0.8064642 ,  1.3451769 ,  1.2022831 ,\n",
       "         1.2225151 ,  0.91227436,  1.4312901 ,  1.2658458 ,  0.08718801],\n",
       "       [-0.02851362, -0.35254464, -0.23985583, -0.40007794, -0.35757893,\n",
       "        -0.36359626, -0.2713255 , -0.4256894 , -0.3764835 , -0.02593116],\n",
       "       [-0.02851362, -0.35254464, -0.2398558 , -0.4000779 , -0.3575789 ,\n",
       "        -0.36359626, -0.2713255 , -0.4256894 , -0.37648347, -0.02593116],\n",
       "       [ 0.02851361,  0.35254458,  0.2398558 ,  0.40007788,  0.3575789 ,\n",
       "         0.3635962 ,  0.27132547,  0.42568937,  0.37648347,  0.02593116],\n",
       "       [ 0.06783528,  0.35184446,  0.25307408,  0.39350677,  0.3562569 ,\n",
       "         0.36153105,  0.28065687,  0.41595492,  0.37282652,  0.06557178]],      dtype=float32)"
      ]
     },
     "execution_count": 48,
     "metadata": {},
     "output_type": "execute_result"
    }
   ],
   "source": [
    "last_update = tree_map(zeros_like, x)\n",
    "df = grad(f)\n",
    "hvp = lambda p, t: calc.hvp_forward_over_reverse(f, (p,), (t,))\n",
    "lanczos_iteration(5, df, hvp, ones_like(last_update) * 10, x)#.shape"
   ]
  },
  {
   "cell_type": "code",
   "execution_count": 46,
   "metadata": {},
   "outputs": [
    {
     "data": {
      "text/plain": [
       "Array(True, dtype=bool)"
      ]
     },
     "execution_count": 46,
     "metadata": {},
     "output_type": "execute_result"
    }
   ],
   "source": [
    "tree_is_zero(last_update)"
   ]
  },
  {
   "cell_type": "code",
   "execution_count": 36,
   "metadata": {},
   "outputs": [
    {
     "name": "stdout",
     "output_type": "stream",
     "text": [
      "0.0 [0. 0. 0. 0. 0. 0. 0. 0. 0. 0.]\n"
     ]
    },
    {
     "data": {
      "text/plain": [
       "Array(0., dtype=float32)"
      ]
     },
     "execution_count": 36,
     "metadata": {},
     "output_type": "execute_result"
    }
   ],
   "source": [
    "def r(a, b):\n",
    "    print(a, b)\n",
    "    return jnp.sum(a) + jnp.sum(b)\n",
    "tree_reduce(r, last_update, 0.0)"
   ]
  },
  {
   "cell_type": "code",
   "execution_count": 38,
   "metadata": {},
   "outputs": [
    {
     "data": {
      "text/plain": [
       "Array(True, dtype=bool)"
      ]
     },
     "execution_count": 38,
     "metadata": {},
     "output_type": "execute_result"
    }
   ],
   "source": [
    "tree_reduce(lambda a, b: a & jnp.all(b == 0), last_update, jnp.array(True))"
   ]
  },
  {
   "cell_type": "code",
   "execution_count": 25,
   "metadata": {},
   "outputs": [
    {
     "data": {
      "text/plain": [
       "21"
      ]
     },
     "execution_count": 25,
     "metadata": {},
     "output_type": "execute_result"
    }
   ],
   "source": [
    "import operator\n",
    "jax.tree.reduce(operator.add, [1, (2, 3), [4, 5, 6]])"
   ]
  }
 ],
 "metadata": {
  "kernelspec": {
   "display_name": "ML2",
   "language": "python",
   "name": "python3"
  },
  "language_info": {
   "codemirror_mode": {
    "name": "ipython",
    "version": 3
   },
   "file_extension": ".py",
   "mimetype": "text/x-python",
   "name": "python",
   "nbconvert_exporter": "python",
   "pygments_lexer": "ipython3",
   "version": "3.11.3"
  }
 },
 "nbformat": 4,
 "nbformat_minor": 2
}
