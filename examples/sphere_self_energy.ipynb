{
 "cells": [
  {
   "cell_type": "code",
   "execution_count": null,
   "metadata": {},
   "outputs": [],
   "source": [
    "import itertools\n",
    "\n",
    "import numpy as np\n",
    "import matplotlib.pyplot as plt\n",
    "from matplotlib import ticker, cm\n",
    "from scipy.stats.qmc import Halton\n",
    "\n",
    "from magpi.prelude import *\n",
    "from magpi import r_fun\n",
    "from magpi.domain import Sphere\n",
    "from magpi.integrate import gauss\n",
    "from magpi.calc import *\n",
    "from magpi.surface_integral import charge_tensor, source_tensor, single_layer_potential, scalar_potential_charge"
   ]
  },
  {
   "cell_type": "code",
   "execution_count": null,
   "metadata": {},
   "outputs": [],
   "source": [
    "R = 1.0\n",
    "\n",
    "# The parametrization is required to solve the single layer potential \n",
    "# via Taylor expansion\n",
    "\n",
    "def sphere_parametrization(u):\n",
    "    phi = u[..., 0] * pi\n",
    "    theta = u[..., 1] * 2 * pi\n",
    "    x = R * sin(phi) * cos(theta)\n",
    "    y = R * sin(phi) * sin(theta)\n",
    "    z = R * cos(phi)\n",
    "    return jnp.stack([x, y, z], axis=-1)\n",
    "\n",
    "# The approximate distance function \n",
    "adf = r_fun.sphere(R)\n",
    "\n",
    "_u, _v = jnp.linspace(0, 1, 9), jnp.linspace(0, 1, 9)\n",
    "\n",
    "# Create collocation points and validation set\n",
    "domain = Sphere(R, (0,0,0))\n",
    "X = array(Halton(3, seed=561).random(2**12))\n",
    "\n",
    "# Collocation points are uniformly mapped into the sphere.\n",
    "# Note that this does not yield the same accuracy\n",
    "# as Monte Carlo on a cuboid geometry.\n",
    "X = domain.transform(X)\n",
    "\n",
    "X_val = array(Halton(3, seed=125).random(2**12))\n",
    "X_val = domain.transform(X_val)"
   ]
  },
  {
   "cell_type": "code",
   "execution_count": null,
   "metadata": {},
   "outputs": [],
   "source": [
    "mag = lambda x: x / norm(x, axis=-1, keepdims=True)\n",
    "\n",
    "\n",
    "# make a solver for the stray field using the scalar potential\n",
    "def solve_stray_field(W_elm, b_elm):\n",
    "    # compute elm:\n",
    "    h_elm = lambda x: nn.gelu(W_elm @ x) + b_elm\n",
    "    u_elm = lambda x: h_elm(x) * adf(x)\n",
    "    Q_phi1 = vmap(lambda x: -laplace(u_elm)(x))(X)\n",
    "\n",
    "    Pinv_phi1 = jnp.linalg.pinv(Q_phi1)\n",
    "    b1 = vmap(divergence(mag))(X)\n",
    "    params_phi1 = -Pinv_phi1 @ b1\n",
    "    phi1 = lambda x: u_elm(x) @ params_phi1  # elm solution\n",
    "    \n",
    "    # this is used to simplify the computation of the single layer potential\n",
    "    phi1_without_adf = lambda x: h_elm(x) @ params_phi1  \n",
    "    \n",
    "    # creates the surface charge function for the scalar potential\n",
    "    g = scalar_potential_charge(adf, mag, phi1_without_adf, normalized=True)\n",
    "    # The charge tensor includes the terms for the second order Taylor expansion \n",
    "    # with respect to the given parametrization.\n",
    "    # Each center point of the parametrization is mapped onto the surface of the sphere\n",
    "    # and Taylor expansion is done around those points\n",
    "    c = charge_tensor(g, sphere_parametrization, _u, _v, params_mag=(), params_phi1=(), order=2)\n",
    "    \n",
    "    def phi2(x):\n",
    "        # Compute the source tensor for the input collocation point\n",
    "        # This is done on the fly here, but this tensor can be precomputed\n",
    "        s = source_tensor(x, sphere_parametrization, _u, _v, method=gauss(4), compute_jacfwd=False)\n",
    "        return single_layer_potential(s, c)\n",
    "\n",
    "    return jit(lambda x: phi1(x) + phi2(x))\n",
    "\n",
    "\n",
    "phi_true = lambda x: norm(x, axis=-1) - 1\n",
    "hs_true = lambda x: -jacfwd(phi_true)(x)\n",
    "e_true = 4 / 3 * pi"
   ]
  },
  {
   "cell_type": "code",
   "execution_count": null,
   "metadata": {},
   "outputs": [],
   "source": [
    "def error_norm_h(phi_pred):\n",
    "    hs_pred = lambda x: -jacfwd(phi_pred)(x)\n",
    "    _h_pred = vmap(hs_pred)(X_val)\n",
    "    _h_true = vmap(hs_true)(X_val)\n",
    "    return jnp.sqrt(4 / 3 * pi * mean(norm((_h_pred - _h_true) ** 2, axis=-1)))\n",
    "\n",
    "def error_norm_phi(phi_pred):\n",
    "    _phi_pred = vmap(phi_pred)(X_val)\n",
    "    _phi_true = vmap(phi_true)(X_val)\n",
    "    return jnp.sqrt(4 / 3 * pi * mean((_phi_pred - _phi_true) ** 2, axis=-1))\n",
    "\n",
    "def error_energy(phi_pred):\n",
    "    hs_pred = lambda x: -jacfwd(phi_pred)(x)\n",
    "    _h_pred = vmap(hs_pred)(X_val)\n",
    "    mags = mag(X_val)\n",
    "    e_pred = -jnp.mean(jnp.sum(_h_pred * mags, axis=-1)) * 4 / 3 * pi\n",
    "    return jnp.abs(e_pred - e_true) / sqrt(e_true)"
   ]
  },
  {
   "cell_type": "code",
   "execution_count": null,
   "metadata": {},
   "outputs": [],
   "source": [
    "errors_phi = []\n",
    "errors_h = []\n",
    "errors_energy = []\n",
    "for i in range(3, 11):\n",
    "    _weights = array(Halton(4, seed=42).random(2 ** i))\n",
    "    W_elm = (_weights[:, :3] * 2 - 1) * 2# * 1\n",
    "    b_elm = (_weights[:, 3] * 2 - 1) * 2# * 1\n",
    "    phi_pred = solve_stray_field(W_elm, b_elm)\n",
    "    error_phi = error_norm_phi(phi_pred)\n",
    "    error_h = error_norm_h(phi_pred)\n",
    "    errors_phi.append(error_phi)\n",
    "    errors_h.append(error_h)\n",
    "    error_e = error_energy(phi_pred)\n",
    "    errors_energy.append(error_e) "
   ]
  },
  {
   "cell_type": "code",
   "execution_count": null,
   "metadata": {},
   "outputs": [],
   "source": [
    "fig = plt.figure()\n",
    "plt.plot([2 ** i for i in range(3,11)], errors_phi, label=r\"$\\|\\phi_{ELM} - \\phi_{d}\\|_{L_2(\\Omega)}$\")\n",
    "plt.xscale(\"log\", base=2)\n",
    "plt.grid()\n",
    "plt.tick_params(axis='both', which='major', labelsize=14)\n",
    "plt.tick_params(axis='both', which='minor', labelsize=14)\n",
    "plt.xlabel(\"$M$\", fontsize=16)\n",
    "plt.legend(fontsize=16)\n",
    "fig.savefig(\"sphere_outward_mag_elm_error_phi.pdf\")"
   ]
  },
  {
   "cell_type": "code",
   "execution_count": null,
   "metadata": {},
   "outputs": [],
   "source": [
    "fig = plt.figure()\n",
    "plt.plot([2 ** i for i in range(3,11)], errors_h, label=r\"$\\|h_{ELM} - h_{d}\\|_{L_2(\\Omega)^3}$\")\n",
    "plt.plot([2 ** i for i in range(3,11)], errors_energy, \"--\", label=r\"$|e_{d}^{\\phi} - e_d| / \\sqrt{e_d}$\")\n",
    "plt.xscale(\"log\", base=2)\n",
    "plt.grid()\n",
    "plt.tick_params(axis='both', which='major', labelsize=14)\n",
    "plt.tick_params(axis='both', which='minor', labelsize=14)\n",
    "plt.xlabel(\"$M$\", fontsize=16)\n",
    "plt.legend(fontsize=16)\n",
    "fig.savefig(\"sphere_outward_mag_elm_error_h.pdf\")"
   ]
  },
  {
   "cell_type": "code",
   "execution_count": null,
   "metadata": {},
   "outputs": [],
   "source": []
  },
  {
   "cell_type": "code",
   "execution_count": null,
   "metadata": {},
   "outputs": [],
   "source": [
    "# compute the solution for 256 basis functions for plotting\n",
    "_weights = array(Halton(4, seed=43).random(2 ** 8))\n",
    "W_elm = (_weights[:, :3] * 2 - 1) * 2\n",
    "b_elm = (_weights[:, 3] * 2 - 1) * 2\n",
    "phi_pred = solve_stray_field(W_elm, b_elm) \n",
    "\n",
    "def plot_sol(sol, ax, log=False):\n",
    "    plt.sca(ax)\n",
    "    N = 1000\n",
    "    x = np.linspace(-1, 1, N)\n",
    "    z = np.linspace(-1, 1, N)\n",
    "    X = np.array([_x for _x in itertools.product(x, z)])\n",
    "    _X = jnp.asarray(X)\n",
    "    _X = jnp.insert(_X, array([1]), zeros((N * N, 1)), 1)\n",
    "    phi = np.array(lax.map(sol, _X))\n",
    "    phi[np.linalg.norm(X, axis=-1) > 1.] = np.nan\n",
    "    if log:\n",
    "        p = ax.contourf(x, z, phi.reshape(N, N).T, 10, cmap=plt.get_cmap(\"autumn\"), alpha=0.5, locator=ticker.LogLocator())\n",
    "    else:\n",
    "        p = ax.contourf(x, z, phi.reshape(N, N).T, 10, cmap=plt.get_cmap(\"autumn\"), alpha=0.5)\n",
    "    plt.colorbar(p)\n",
    "    ax.set_axis_off()\n",
    "    ax.set_aspect('equal')\n",
    "\n",
    "fig = plt.figure(figsize=(10, 4))\n",
    "ax1, ax2 = fig.subplots(1, 2)\n",
    "plt.subplots_adjust(wspace=0.4)\n",
    "ax1.set_title(\"ELM with $M=256$\")\n",
    "plot_sol(phi_pred, ax1)\n",
    "ax2.set_title(\"Absolute Error\")\n",
    "plot_sol(jit(lambda x: abs(phi_pred(x) -  phi_true(x))), ax2, log=False)\n",
    "fig.savefig(\"sphere_outward_mag_elm256.pdf\")"
   ]
  },
  {
   "cell_type": "code",
   "execution_count": null,
   "metadata": {},
   "outputs": [],
   "source": [
    "phi_pred(zeros(3,))"
   ]
  },
  {
   "cell_type": "code",
   "execution_count": null,
   "metadata": {},
   "outputs": [],
   "source": [
    "-0.8470913 + 1"
   ]
  }
 ],
 "metadata": {
  "kernelspec": {
   "display_name": "ML",
   "language": "python",
   "name": "python3"
  },
  "language_info": {
   "codemirror_mode": {
    "name": "ipython",
    "version": 3
   },
   "file_extension": ".py",
   "mimetype": "text/x-python",
   "name": "python",
   "nbconvert_exporter": "python",
   "pygments_lexer": "ipython3",
   "version": "3.12.2"
  }
 },
 "nbformat": 4,
 "nbformat_minor": 2
}
