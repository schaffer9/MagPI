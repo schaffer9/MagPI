{
 "cells": [
  {
   "cell_type": "code",
   "execution_count": null,
   "metadata": {},
   "outputs": [],
   "source": [
    "%matplotlib widget"
   ]
  },
  {
   "cell_type": "code",
   "execution_count": null,
   "metadata": {},
   "outputs": [],
   "source": [
    "from pinns.prelude import *\n",
    "from pinns.domain import Hypercube\n",
    "from pinns.calc import laplace\n",
    "from scipy.stats.qmc import Sobol\n",
    "from pinns.model import mlp\n",
    "from pinns.opt import train_nn\n",
    "\n",
    "import itertools\n",
    "import numpy as np\n",
    "import matplotlib.pyplot as plt\n",
    "from jax.config import config"
   ]
  },
  {
   "cell_type": "markdown",
   "metadata": {},
   "source": [
    "example from https://farside.ph.utexas.edu/teaching/329/lectures/node66.html"
   ]
  },
  {
   "cell_type": "code",
   "execution_count": null,
   "metadata": {},
   "outputs": [],
   "source": [
    "x_dom = jnp.linspace(0, 1, 100)[:, None]#[1:-1, None]\n",
    "\n",
    "default_params = dict(\n",
    "    alpha_l=array([1.]),\n",
    "    beta_l=array([-1]),\n",
    "    gamma_l=array([1.]),\n",
    "    alpha_h=array([1.]),\n",
    "    beta_h=array([1.]),\n",
    "    gamma_h=array([1.]),\n",
    ")\n",
    "\n",
    "param_names = list(default_params.keys())\n",
    "\n",
    "params_space = dict(\n",
    "    alpha_l=jnp.linspace(0.8, 1, 100)[:, None],\n",
    "    beta_l=jnp.linspace(-1.0, 0, 100)[:, None],\n",
    "    gamma_l=jnp.linspace(0.0, 1, 100)[:, None],\n",
    "    alpha_h=jnp.linspace(0.8, 1, 100)[:, None],\n",
    "    beta_h=jnp.linspace(0.0, 1, 100)[:, None],\n",
    "    gamma_h=jnp.linspace(0.0, 1, 100)[:, None],\n",
    ")\n",
    "\n",
    "\n",
    "def perm_params(key):\n",
    "    N = len(params_space)\n",
    "    keys = random.split(key, N)\n",
    "    keys = {n:keys[i] for i, n in enumerate(params_space.keys())}\n",
    "    return tree_map(random.permutation, keys, params_space)\n",
    "\n",
    "\n",
    "def batch_fun(key):\n",
    "    batch_size = 10\n",
    "    batches = len(x_dom) // batch_size\n",
    "    k1, k2 = random.split(key)\n",
    "\n",
    "    perms = jax.random.permutation(k1, x_dom.shape[0])\n",
    "    perms = perms[:batches * batch_size]\n",
    "    perms = perms.reshape((batches, batch_size))\n",
    "\n",
    "    params = perm_params(k2)\n",
    "    \n",
    "    return x_dom[perms], tree_map(lambda p: p[perms], params)\n"
   ]
  },
  {
   "cell_type": "code",
   "execution_count": null,
   "metadata": {},
   "outputs": [],
   "source": [
    "def plot_sol(u, params):\n",
    "    x = jnp.linspace(0, 1, 100)\n",
    "    y_pred = u(x, params)\n",
    "    y_true = analytic_sol(x, params)\n",
    "    f = plt.figure(figsize=(5, 2))\n",
    "    ax = f.subplots(1, 1)\n",
    "    ax.plot(x, array([y_pred, y_true]).T, label=['y_pred', 'y_true'])\n",
    "    ax.legend()\n",
    "\n",
    "\n",
    "def cat_params(**kwargs):\n",
    "    return concatenate([kwargs[k] for k in param_names if k in kwargs.keys()])\n",
    "\n",
    "def cat_params_add_default(**kwargs):\n",
    "    return concatenate([kwargs.get(k, default_params[k]) for k in param_names])\n",
    "\n",
    "def analytic_sol(x, params):\n",
    "    alpha_l, beta_l, gamma_l, alpha_h, beta_h, gamma_h = cat_params_add_default(**params)\n",
    "    a = (alpha_l*alpha_h + alpha_l*beta_h - beta_l*alpha_h)\n",
    "    b = (gamma_h - (alpha_h + beta_h)/3)\n",
    "    g = (gamma_l * (alpha_h + beta_h) - beta_l * b) / a\n",
    "    h = (alpha_l * b - gamma_l * alpha_h) / a\n",
    "    return g + h * x + x ** 2 / 2 - x**4 / 6\n"
   ]
  },
  {
   "cell_type": "code",
   "execution_count": null,
   "metadata": {},
   "outputs": [],
   "source": [
    "\n",
    "key, init_key = random.split(random.PRNGKey(503))\n",
    "model, params = mlp(init_key, (1 + len(params_space), 30, 30, 30, 1), tanh)\n",
    "\n",
    "tx = optax.adam(0.001)\n",
    "init_state = TrainState.create(\n",
    "    apply_fn=model.apply, \n",
    "    params=params,\n",
    "    tx=tx\n",
    ")\n",
    "\n",
    "\n",
    "u = lambda x, params_pde, params_nn: model.apply(params_nn, concatenate([x, cat_params(**params_pde)]))\n",
    "f = lambda x: 1 - 2 * x ** 2\n",
    "\n",
    "def loss(params_nn, x, params_pde):\n",
    "    l_de = vmap(\n",
    "        lambda x, params_pde, params_nn: (laplace(u)(x, params_pde, params_nn) - f(x)) ** 2,\n",
    "        (0, 0, None)\n",
    "    )\n",
    "    def bnd_l(params_nn, params_pde):\n",
    "        params = cat_params_add_default(**params_pde)\n",
    "        alpha, beta, gamma = params[0], params[1], params[2]\n",
    "        xl = array([0.])\n",
    "        return alpha * u(xl, params_pde, params_nn) + beta * grad(u)(xl, params_pde, params_nn) - gamma\n",
    "\n",
    "    def bnd_h(params_nn, params_pde):\n",
    "        params = cat_params_add_default(**params_pde)\n",
    "        alpha, beta, gamma = params[3], params[4], params[5]\n",
    "        xh = array([1.])\n",
    "        return alpha * u(xh, params_pde, params_nn) + beta * grad(u)(xh, params_pde, params_nn) - gamma\n",
    "\n",
    "    ll = vmap(\n",
    "        lambda x, params_pde, params_nn: bnd_l(params_nn, params_pde) ** 2,\n",
    "        (0, 0, None)\n",
    "    )\n",
    "    lh = vmap(\n",
    "        lambda x, params_pde, params_nn: bnd_h(params_nn, params_pde) ** 2,\n",
    "        (0, 0, None)\n",
    "    )\n",
    "\n",
    "    _l_de = mean(l_de(x, params_pde, params_nn))\n",
    "    _ll = mean(ll(x, params_pde, params_nn))\n",
    "    _lh = mean(lh(x, params_pde, params_nn))\n",
    "    l = _l_de + _ll + _lh\n",
    "    return l, {\"de\": _l_de, 'll': _ll, 'lh': _lh, 'total_loss': l}\n"
   ]
  },
  {
   "cell_type": "code",
   "execution_count": null,
   "metadata": {},
   "outputs": [],
   "source": [
    "key, train_key = random.split(key)\n",
    "state, metrics = train_nn(loss, init_state, batch_fun, train_key, epochs=4000)"
   ]
  },
  {
   "cell_type": "code",
   "execution_count": null,
   "metadata": {},
   "outputs": [],
   "source": [
    "u_nn = lambda x, p: vmap(u, (0, None, None))(\n",
    "    x[:, jnp.newaxis], \n",
    "    p,\n",
    "    state.params)\n"
   ]
  },
  {
   "cell_type": "code",
   "execution_count": null,
   "metadata": {},
   "outputs": [],
   "source": [
    "key, subkey = random.split(key)\n",
    "rand_params = perm_params(subkey)\n",
    "rand_params = tree_map(lambda p: p[4:5], rand_params)\n",
    "loss(state.params, x_dom[4:5], rand_params)"
   ]
  },
  {
   "cell_type": "code",
   "execution_count": null,
   "metadata": {},
   "outputs": [],
   "source": [
    "key, subkey = random.split(random.PRNGKey(3))\n",
    "rand_params = perm_params(subkey)\n",
    "\n",
    "import matplotlib as mpl\n",
    "mpl.rcParams['text.usetex'] = True\n",
    "mpl.rcParams['text.latex.preamble'] = r'\\usepackage{amsmath}'\n",
    "from matplotlib import style\n",
    "\n",
    "plt.style.use(\"ggplot\")\n",
    "\n",
    "def format_params(params):\n",
    "    names = {\n",
    "        'alpha_l': r'\\alpha_l',\n",
    "        'beta_l': r'\\beta_l',\n",
    "        'gamma_l': r'\\gamma_l',\n",
    "        'alpha_h': r'\\alpha_h',\n",
    "        'beta_h': r'\\beta_h',\n",
    "        'gamma_h': r'\\gamma_h',\n",
    "    }\n",
    "    text = [f\"{names[n]}&={float(params[n]):.2} \\\\\" for n in param_names]\n",
    "    text = r\" \\\\ \".join(text)\n",
    "    text = r\"$$ \\begin{aligned}\" + text + r\" \\end{aligned}$$\"\n",
    "    return text\n",
    "\n",
    "def plot_sol(u, params, ax):\n",
    "    x = jnp.linspace(0, 1, 100)\n",
    "    y_pred = u(x, params)\n",
    "    y_true = analytic_sol(x, params)\n",
    "    ax.plot(x, array([y_pred, y_true]).T, label=[r'$\\hat u$', '$u$'])\n",
    "\n",
    "    ax.legend(loc=\"upper left\")\n",
    "    text = format_params(params)\n",
    "    props = dict(facecolor='white', alpha=0.5, edgecolor=\"grey\")\n",
    "    ax.text(0.66, 0.6, text, fontsize='small', transform=ax.transAxes, bbox=props)\n",
    "\n",
    "f = plt.figure()\n",
    "[[ax1, ax2], [ax3, ax4]] = f.subplots(2, 2)\n",
    "\n",
    "plot_sol(u_nn, tree_map(lambda p: p[0], rand_params), ax1)\n",
    "plot_sol(u_nn, tree_map(lambda p: p[1], rand_params), ax2)\n",
    "plot_sol(u_nn, tree_map(lambda p: p[2], rand_params), ax3)\n",
    "plot_sol(u_nn, tree_map(lambda p: p[3], rand_params), ax4)"
   ]
  },
  {
   "cell_type": "code",
   "execution_count": null,
   "metadata": {},
   "outputs": [],
   "source": [
    "plt.style.use(\"ggplot\")\n",
    "f = plt.figure(figsize=(4, 3))\n",
    "\n",
    "ax = f.subplots(1,1)\n",
    "c = 2.2\n",
    "\n",
    "x = jnp.linspace(1, 7, 7)\n",
    "ax.plot(x, c ** x, \"o\", linewidth=10, markersize=10, label=\"FEM\")\n",
    "ax.plot(x, c * x, \"p\", linewidth=10, markersize=10, label=\"PINN\")\n",
    "ax.legend()\n",
    "ax.set_xlabel(\"dimensions\")\n",
    "ax.set_ylabel(\"\\#parameters\")\n",
    "ax.yaxis.set_ticklabels([])\n",
    "f.tight_layout()\n"
   ]
  },
  {
   "cell_type": "code",
   "execution_count": null,
   "metadata": {},
   "outputs": [],
   "source": [
    "def err(model, params):\n",
    "    x = jnp.linspace(0, 1, 100)\n",
    "    def _err(p):\n",
    "        y_true = analytic_sol(x, p)\n",
    "        y_pred = model(x, p)\n",
    "        return mean(abs(y_true - y_pred))\n",
    "    return mean(vmap(_err)(params))\n",
    "\n",
    "key, subkey = random.split(key)\n",
    "u_nn = lambda x, p: vmap(u, (0, None, None))(x[:, jnp.newaxis], p, state.params)\n",
    "\n",
    "err(u_nn, perm_params(subkey))"
   ]
  },
  {
   "cell_type": "code",
   "execution_count": null,
   "metadata": {},
   "outputs": [],
   "source": [
    "def plot_hist(hist):\n",
    "    ax = plt.figure().subplots(1, 1)\n",
    "    for name, h in hist.items():\n",
    "        ax.plot(h, label=name)\n",
    "    ax.legend()\n",
    "\n",
    "plot_hist(metrics)\n",
    "ax = plt.gca()\n",
    "ax.set_yscale('log')"
   ]
  },
  {
   "cell_type": "code",
   "execution_count": null,
   "metadata": {},
   "outputs": [],
   "source": []
  }
 ],
 "metadata": {
  "kernelspec": {
   "display_name": "ML",
   "language": "python",
   "name": "python3"
  },
  "language_info": {
   "codemirror_mode": {
    "name": "ipython",
    "version": 3
   },
   "file_extension": ".py",
   "mimetype": "text/x-python",
   "name": "python",
   "nbconvert_exporter": "python",
   "pygments_lexer": "ipython3",
   "version": "3.10.4"
  },
  "orig_nbformat": 4,
  "vscode": {
   "interpreter": {
    "hash": "884cdabbd2c598457d0baecfb8d8805b6c2cbdc539bbf2ae1d7c4fff24c986b1"
   }
  }
 },
 "nbformat": 4,
 "nbformat_minor": 2
}
