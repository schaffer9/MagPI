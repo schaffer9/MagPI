{
 "cells": [
  {
   "cell_type": "code",
   "execution_count": 1,
   "metadata": {},
   "outputs": [
    {
     "name": "stdout",
     "output_type": "stream",
     "text": [
      "env: PATH=/usr/local/cuda-11.5/bin:$PATH\n"
     ]
    }
   ],
   "source": [
    "%env PATH=/usr/local/cuda-11.5/bin:$PATH"
   ]
  },
  {
   "cell_type": "code",
   "execution_count": 2,
   "metadata": {},
   "outputs": [],
   "source": [
    "from pinns.prelude import *\n",
    "from pinns.domain import Hypercube\n",
    "from pinns.calc import laplace\n",
    "from scipy.stats.qmc import Sobol\n",
    "import matplotlib.pyplot as plt"
   ]
  },
  {
   "cell_type": "code",
   "execution_count": 3,
   "metadata": {},
   "outputs": [],
   "source": [
    "domain = Hypercube((0., 0.), (1., 1.))\n",
    "x_dom = array(Sobol(2, seed=0).random_base2(10))\n",
    "x_dom = domain.transform(x_dom)\n",
    "x_bnd = array(Sobol(1, seed=1).random_base2(8))\n",
    "x_bnd = domain.transform_bnd(x_bnd)\n"
   ]
  },
  {
   "cell_type": "code",
   "execution_count": 4,
   "metadata": {},
   "outputs": [],
   "source": [
    "class MLP(Module):\n",
    "    features: Sequence[int]\n",
    "\n",
    "    @compact\n",
    "    def __call__(self, x):\n",
    "        for i, feat in enumerate(self.features[:-1]):\n",
    "            x = tanh(Dense(feat, name=f'layers_{i}')(x))\n",
    "        return Dense(self.features[-1], name='output_layer')(x)\n",
    "\n"
   ]
  },
  {
   "cell_type": "code",
   "execution_count": 5,
   "metadata": {},
   "outputs": [],
   "source": [
    "\n",
    "model = MLP([16] * 4 + [1])\n",
    "key, init_key = random.split(random.PRNGKey(503))\n",
    "params = model.init(init_key, ones((2,)))\n",
    "del init_key\n",
    "\n",
    "tx = optax.adam(0.001)\n",
    "state = TrainState.create(\n",
    "    apply_fn=model.apply, \n",
    "    params=params['params'],\n",
    "    tx=tx\n",
    ")\n",
    "\n",
    "l1 = lambda x, p: laplace(model)(x, p) + sin(2*pi * x[0]) * sin(2*pi * x[1])\n",
    "l2 = lambda x, p: model.apply(p, x)\n",
    "\n",
    "def loss(params, x_dom, x_bnd):\n",
    "    _l1 = mean(vmap(l1, (0, None))(x_dom, params) ** 2)\n",
    "    _l2 = mean(vmap(l2, (0, None))(x_bnd, params) ** 2)\n",
    "    _loss = _l1 + _l2\n",
    "    return _loss, {'pde_loss': _l1, 'bnd_loss': _l2, 'loss': _loss}\n",
    "\n",
    "\n",
    "@partial(jit, static_argnames=\"loss\")\n",
    "def train_step(state, loss, *args):\n",
    "    def _loss(*args, **kwargs):\n",
    "        out = loss(*args, **kwargs)\n",
    "        if not isinstance(out, ndarray):\n",
    "            return (out[0], *out[1:])\n",
    "        else:\n",
    "            return out, ()\n",
    "    (l, metrics), grads = jax.value_and_grad(_loss, has_aux=True)(\n",
    "        {'params': state.params}, *args #x_dom, x_bnd\n",
    "    )\n",
    "    return l, state.apply_gradients(grads=grads['params']), metrics\n",
    "\n",
    "\n",
    "@partial(jit, static_argnames=(\"loss\", \"batch_fun\"))\n",
    "def train_epoch(state, loss, batch_fun, rng):\n",
    "    # k1, k2 = random.split(rng)\n",
    "    # batch_size_dom = x_dom.shape[0] // batches\n",
    "    # batch_size_bnd = x_bnd.shape[0] // batches\n",
    "\n",
    "    # perms_dom = jax.random.permutation(k1, x_dom.shape[0])\n",
    "    # perms_dom = perms_dom[:batches * batch_size_dom]  # skip incomplete batch\n",
    "    # perms_dom = perms_dom.reshape((batches, batch_size_dom))\n",
    "\n",
    "    # perms_bnd = jax.random.permutation(k2, x_bnd.shape[0])\n",
    "    # perms_bnd = perms_bnd[:batches * batch_size_bnd]  # skip incomplete batch\n",
    "    # perms_bnd = perms_bnd.reshape((batches, batch_size_bnd))\n",
    "\n",
    "    data = batch_fun(rng)\n",
    "    batches = len(data[0])\n",
    "    def init_metric(m):\n",
    "        arr = zeros((batches,))\n",
    "        return arr.at[0].set(m)\n",
    "\n",
    "    _, state, metrics_init = train_step(state, loss, *(d[0] for d in data))\n",
    "    metrics_init = tree_map(init_metric, metrics_init)\n",
    "    has_aux = not (isinstance(metrics_init, tuple) and len(metrics_init) == 0)\n",
    "    def body(batch, state):\n",
    "        state, metrics = state\n",
    "        l, state, _metrics = train_step(state, loss, *(d[batch] for d in data))\n",
    "        metrics = tree_map(lambda m, v: m.at[batch].set(v), metrics, _metrics)\n",
    "        return state, metrics\n",
    "    state, metrics = lax.fori_loop(1, batches, body, (state, metrics_init))\n",
    "    if has_aux:\n",
    "        return state, metrics  # tree_map(mean, metrics)\n",
    "    else:\n",
    "        return state\n",
    "\n",
    "\n",
    "\n",
    "def batch_fun(rng):\n",
    "    batches = 24\n",
    "    k1, k2 = random.split(rng)\n",
    "    batch_size_dom = x_dom.shape[0] // batches\n",
    "    batch_size_bnd = x_bnd.shape[0] // batches\n",
    "\n",
    "    perms_dom = jax.random.permutation(k1, x_dom.shape[0])\n",
    "    perms_dom = perms_dom[:batches * batch_size_dom]  # skip incomplete batch\n",
    "    perms_dom = perms_dom.reshape((batches, batch_size_dom))\n",
    "\n",
    "    perms_bnd = jax.random.permutation(k2, x_bnd.shape[0])\n",
    "    perms_bnd = perms_bnd[:batches * batch_size_bnd]  # skip incomplete batch\n",
    "    perms_bnd = perms_bnd.reshape((batches, batch_size_bnd))\n",
    "\n",
    "    return x_dom[perms_dom, :], x_bnd[perms_bnd, :]"
   ]
  },
  {
   "cell_type": "code",
   "execution_count": 8,
   "metadata": {},
   "outputs": [
    {
     "name": "stdout",
     "output_type": "stream",
     "text": [
      "train epoch: 100, loss: 9.2204e-05, pde_loss: 8.5515e-05, bnd_loss: 6.6887e-06\n",
      "train epoch: 200, loss: 7.2256e-05, pde_loss: 6.9306e-05, bnd_loss: 2.9499e-06\n",
      "train epoch: 300, loss: 7.8617e-05, pde_loss: 7.5108e-05, bnd_loss: 3.5083e-06\n",
      "train epoch: 400, loss: 5.5207e-05, pde_loss: 5.2974e-05, bnd_loss: 2.2331e-06\n",
      "train epoch: 500, loss: 4.1197e-05, pde_loss: 3.8853e-05, bnd_loss: 2.3438e-06\n",
      "train epoch: 600, loss: 1.3345e-04, pde_loss: 1.3018e-04, bnd_loss: 3.2697e-06\n",
      "train epoch: 700, loss: 6.8834e-05, pde_loss: 6.6633e-05, bnd_loss: 2.2011e-06\n",
      "train epoch: 800, loss: 3.0728e-05, pde_loss: 2.9247e-05, bnd_loss: 1.4811e-06\n",
      "train epoch: 900, loss: 1.3182e-04, pde_loss: 1.2757e-04, bnd_loss: 4.2502e-06\n",
      "train epoch: 1000, loss: 6.2613e-05, pde_loss: 6.0692e-05, bnd_loss: 1.9213e-06\n",
      "train epoch: 1100, loss: 6.4020e-05, pde_loss: 6.1527e-05, bnd_loss: 2.4934e-06\n",
      "train epoch: 1200, loss: 4.8978e-05, pde_loss: 4.7115e-05, bnd_loss: 1.8621e-06\n",
      "train epoch: 1300, loss: 1.0887e-04, pde_loss: 1.0570e-04, bnd_loss: 3.1639e-06\n",
      "train epoch: 1400, loss: 3.9335e-05, pde_loss: 3.7678e-05, bnd_loss: 1.6566e-06\n",
      "train epoch: 1500, loss: 5.7480e-05, pde_loss: 5.3629e-05, bnd_loss: 3.8509e-06\n",
      "train epoch: 1600, loss: 1.9115e-05, pde_loss: 1.8107e-05, bnd_loss: 1.0078e-06\n",
      "train epoch: 1700, loss: 2.2183e-05, pde_loss: 2.1229e-05, bnd_loss: 9.5374e-07\n",
      "train epoch: 1800, loss: 3.4656e-05, pde_loss: 3.3357e-05, bnd_loss: 1.2994e-06\n",
      "train epoch: 1900, loss: 3.0629e-05, pde_loss: 2.9545e-05, bnd_loss: 1.0839e-06\n",
      "train epoch: 2000, loss: 5.7641e-05, pde_loss: 5.5831e-05, bnd_loss: 1.8098e-06\n",
      "train epoch: 2100, loss: 1.3069e-04, pde_loss: 1.2853e-04, bnd_loss: 2.1626e-06\n",
      "train epoch: 2200, loss: 9.4221e-05, pde_loss: 8.9925e-05, bnd_loss: 4.2963e-06\n",
      "train epoch: 2300, loss: 9.0938e-05, pde_loss: 8.9160e-05, bnd_loss: 1.7780e-06\n",
      "train epoch: 2400, loss: 1.6088e-04, pde_loss: 1.5858e-04, bnd_loss: 2.3005e-06\n"
     ]
    }
   ],
   "source": [
    "init_state = state\n",
    "for epoch in range(1, 2500):\n",
    "    key, subkey = random.split(key)\n",
    "    # state = train_epoch(state, x_dom, x_bnd, 16, subkey)\n",
    "    state, epoch_metrics = train_epoch(state, loss, batch_fun, subkey)\n",
    "    # _loss = loss({'params': state.params}, x_dom, x_bnd)\n",
    "    #state, epoch_metrics = train_epoch(state, x_dom, x_bnd, 16, subkey)\n",
    "    if epoch % 100 == 0:\n",
    "        epoch_metrics = tree_map(mean, epoch_metrics)\n",
    "        print(f\"train epoch: {epoch}, loss: {epoch_metrics['loss']:.4e}, pde_loss: {epoch_metrics['pde_loss']:.4e}, bnd_loss: {epoch_metrics['bnd_loss']:.4e}\")"
   ]
  },
  {
   "cell_type": "code",
   "execution_count": 9,
   "metadata": {},
   "outputs": [
    {
     "data": {
      "image/png": "[encoded data removed]",
      "text/plain": [
       "<Figure size 936x216 with 6 Axes>"
      ]
     },
     "metadata": {
      "needs_background": "light"
     },
     "output_type": "display_data"
    }
   ],
   "source": [
    "import matplotlib.pyplot as plt\n",
    "\n",
    "\n",
    "\n",
    "def plot_solution(model, params, name=None):\n",
    "    x = linspace(0, 1, 100)\n",
    "    y = linspace(0, 1, 100)\n",
    "    X, Y = meshgrid(x, y, indexing='xy')\n",
    "\n",
    "    @jnp.vectorize\n",
    "    def _sol(x, y):\n",
    "        _x = stack((x, y))\n",
    "        y = model.apply(params, _x)\n",
    "        return y[0]\n",
    "\n",
    "    def nn_sol(x, y):\n",
    "        return _sol(x, y)\n",
    "\n",
    "    def analytic_sol_func(x,y):\n",
    "        return  sin(2 * pi * x) * sin(2 * pi * y) / (8 * pi ** 2)\n",
    "\n",
    "    f = plt.figure(figsize=(13, 3))\n",
    "    ax1, ax2, ax3 = f.subplots(1, 3)\n",
    "    y_nn = nn_sol(X, Y)\n",
    "    y_analytic = analytic_sol_func(X, Y)\n",
    "\n",
    "    plt.sca(ax1)\n",
    "    plt.axis('equal')\n",
    "    plt.title(\"nn solution\")\n",
    "    p = plt.contourf(X, Y, y_nn)\n",
    "    plt.colorbar(p)\n",
    "    plt.axis(\"off\")\n",
    "\n",
    "    plt.sca(ax2)\n",
    "    plt.axis('equal')\n",
    "    plt.title(\"analytic solution\")\n",
    "    plt.contourf(X, Y, y_analytic)\n",
    "    plt.colorbar()\n",
    "    plt.axis(\"off\")\n",
    "\n",
    "    plt.sca(ax3)\n",
    "    plt.axis('equal')\n",
    "    plt.title(\"error\")\n",
    "    p = plt.contourf(X, Y, abs(y_nn - y_analytic))\n",
    "    plt.colorbar(p)\n",
    "    plt.axis(\"off\")\n",
    "    if name is not None:\n",
    "        plt.savefig(name)\n",
    "\n",
    "plot_solution(model, {'params': state.params})"
   ]
  }
 ],
 "metadata": {
  "interpreter": {
   "hash": "0a9032f720ad293db2c4640126356e6ab33c34b58e733ecf7d9b3402386a4959"
  },
  "kernelspec": {
   "display_name": "Python 3.10.4 ('AML')",
   "language": "python",
   "name": "python3"
  },
  "language_info": {
   "codemirror_mode": {
    "name": "ipython",
    "version": 3
   },
   "file_extension": ".py",
   "mimetype": "text/x-python",
   "name": "python",
   "nbconvert_exporter": "python",
   "pygments_lexer": "ipython3",
   "version": "3.10.4"
  },
  "orig_nbformat": 4
 },
 "nbformat": 4,
 "nbformat_minor": 2
}
