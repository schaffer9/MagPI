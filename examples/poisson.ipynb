{
 "cells": [
  {
   "cell_type": "code",
   "execution_count": 1,
   "metadata": {},
   "outputs": [
    {
     "name": "stdout",
     "output_type": "stream",
     "text": [
      "env: PATH=/usr/local/cuda-11.5/bin:$PATH\n"
     ]
    }
   ],
   "source": [
    "%env PATH=/usr/local/cuda-11.5/bin:$PATH"
   ]
  },
  {
   "cell_type": "code",
   "execution_count": 2,
   "metadata": {},
   "outputs": [],
   "source": [
    "from pinns.prelude import *\n",
    "from pinns.domain import Hypercube\n",
    "from pinns.calc import laplace\n",
    "from pinns.opt import train_nn\n",
    "from pinns.model import mlp\n",
    "from scipy.stats.qmc import Sobol\n",
    "import matplotlib.pyplot as plt"
   ]
  },
  {
   "cell_type": "code",
   "execution_count": 3,
   "metadata": {},
   "outputs": [],
   "source": [
    "domain = Hypercube((0., 0.), (1., 1.))\n",
    "x_dom = array(Sobol(2, seed=0).random_base2(10))\n",
    "x_dom = domain.transform(x_dom)\n",
    "x_bnd = array(Sobol(1, seed=1).random_base2(8))\n",
    "x_bnd = domain.transform_bnd(x_bnd)\n"
   ]
  },
  {
   "cell_type": "code",
   "execution_count": 4,
   "metadata": {},
   "outputs": [],
   "source": [
    "key, init_key = random.split(random.PRNGKey(503))\n",
    "model, params = mlp(init_key, (2, 16, 16, 1), tanh)\n",
    "\n",
    "tx = optax.adam(0.001)\n",
    "init_state = TrainState.create(\n",
    "    apply_fn=model.apply, \n",
    "    params=params,\n",
    "    tx=tx\n",
    ")\n",
    "\n",
    "\n",
    "def loss(params, x_dom, x_bnd):\n",
    "    l1 = lambda x, p: laplace(model)(x, p) + sin(2*pi * x[0]) * sin(2*pi * x[1])\n",
    "    l2 = lambda x, p: model.apply(p, x)\n",
    "    _l1 = mean(vmap(l1, (0, None))(x_dom, params) ** 2)\n",
    "    _l2 = mean(vmap(l2, (0, None))(x_bnd, params) ** 2)\n",
    "    _loss = _l1 + _l2\n",
    "    return _loss, {'pde_loss': _l1, 'bnd_loss': _l2, 'loss': _loss}\n",
    "\n",
    "def batch_fn(rng):\n",
    "    batches = 24\n",
    "    k1, k2 = random.split(rng)\n",
    "    batch_size_dom = x_dom.shape[0] // batches\n",
    "    batch_size_bnd = x_bnd.shape[0] // batches\n",
    "\n",
    "    perms_dom = jax.random.permutation(k1, x_dom.shape[0])\n",
    "    perms_dom = perms_dom[:batches * batch_size_dom]  # skip incomplete batch\n",
    "    perms_dom = perms_dom.reshape((batches, batch_size_dom))\n",
    "\n",
    "    perms_bnd = jax.random.permutation(k2, x_bnd.shape[0])\n",
    "    perms_bnd = perms_bnd[:batches * batch_size_bnd]  # skip incomplete batch\n",
    "    perms_bnd = perms_bnd.reshape((batches, batch_size_bnd))\n",
    "\n",
    "    return x_dom[perms_dom, :], x_bnd[perms_bnd, :]"
   ]
  },
  {
   "cell_type": "code",
   "execution_count": 5,
   "metadata": {},
   "outputs": [],
   "source": [
    "key, train_key = random.split(key)\n",
    "state, metrics = train_nn(loss, init_state, batch_fn, train_key, epochs=2000)"
   ]
  },
  {
   "cell_type": "code",
   "execution_count": 7,
   "metadata": {},
   "outputs": [
    {
     "ename": "TypeError",
     "evalue": "tuple indices must be integers or slices, not str",
     "output_type": "error",
     "traceback": [
      "\u001b[0;31m---------------------------------------------------------------------------\u001b[0m",
      "\u001b[0;31mTypeError\u001b[0m                                 Traceback (most recent call last)",
      "\u001b[1;32m/home/sebastian/Workspace/PHD/jax_pinns/examples/poisson.ipynb Cell 7\u001b[0m in \u001b[0;36m<cell line: 1>\u001b[0;34m()\u001b[0m\n\u001b[0;32m----> <a href='vscode-notebook-cell:/home/sebastian/Workspace/PHD/jax_pinns/examples/poisson.ipynb#X13sZmlsZQ%3D%3D?line=0'>1</a>\u001b[0m plt\u001b[39m.\u001b[39mplot(metrics[\u001b[39m'\u001b[39;49m\u001b[39mloss\u001b[39;49m\u001b[39m'\u001b[39;49m])\n",
      "\u001b[0;31mTypeError\u001b[0m: tuple indices must be integers or slices, not str"
     ]
    }
   ],
   "source": [
    "plt.plot(metrics['loss'])"
   ]
  },
  {
   "cell_type": "code",
   "execution_count": 14,
   "metadata": {},
   "outputs": [
    {
     "data": {
      "image/png": "[encoded data removed]",
      "text/plain": [
       "<Figure size 936x216 with 6 Axes>"
      ]
     },
     "metadata": {
      "needs_background": "light"
     },
     "output_type": "display_data"
    }
   ],
   "source": [
    "import matplotlib.pyplot as plt\n",
    "\n",
    "\n",
    "\n",
    "def plot_solution(model, params, name=None):\n",
    "    x = linspace(0, 1, 100)\n",
    "    y = linspace(0, 1, 100)\n",
    "    X, Y = meshgrid(x, y, indexing='xy')\n",
    "\n",
    "    @jnp.vectorize\n",
    "    def _sol(x, y):\n",
    "        _x = stack((x, y))\n",
    "        y = model.apply(params, _x)\n",
    "        return y#[0]\n",
    "\n",
    "    def nn_sol(x, y):\n",
    "        return _sol(x, y)\n",
    "\n",
    "    def analytic_sol_func(x,y):\n",
    "        return  sin(2 * pi * x) * sin(2 * pi * y) / (8 * pi ** 2)\n",
    "\n",
    "    f = plt.figure(figsize=(13, 3))\n",
    "    ax1, ax2, ax3 = f.subplots(1, 3)\n",
    "    y_nn = nn_sol(X, Y)\n",
    "    y_analytic = analytic_sol_func(X, Y)\n",
    "\n",
    "    plt.sca(ax1)\n",
    "    plt.axis('equal')\n",
    "    plt.title(\"nn solution\")\n",
    "    p = plt.contourf(X, Y, y_nn)\n",
    "    plt.colorbar(p)\n",
    "    plt.axis(\"off\")\n",
    "\n",
    "    plt.sca(ax2)\n",
    "    plt.axis('equal')\n",
    "    plt.title(\"analytic solution\")\n",
    "    plt.contourf(X, Y, y_analytic)\n",
    "    plt.colorbar()\n",
    "    plt.axis(\"off\")\n",
    "\n",
    "    plt.sca(ax3)\n",
    "    plt.axis('equal')\n",
    "    plt.title(\"error\")\n",
    "    p = plt.contourf(X, Y, abs(y_nn - y_analytic))\n",
    "    plt.colorbar(p)\n",
    "    plt.axis(\"off\")\n",
    "    if name is not None:\n",
    "        plt.savefig(name)\n",
    "\n",
    "plot_solution(model, {'params': state.params})"
   ]
  },
  {
   "cell_type": "code",
   "execution_count": null,
   "metadata": {},
   "outputs": [],
   "source": []
  }
 ],
 "metadata": {
  "interpreter": {
   "hash": "0a9032f720ad293db2c4640126356e6ab33c34b58e733ecf7d9b3402386a4959"
  },
  "kernelspec": {
   "display_name": "Python 3.10.4 ('AML')",
   "language": "python",
   "name": "python3"
  },
  "language_info": {
   "codemirror_mode": {
    "name": "ipython",
    "version": 3
   },
   "file_extension": ".py",
   "mimetype": "text/x-python",
   "name": "python",
   "nbconvert_exporter": "python",
   "pygments_lexer": "ipython3",
   "version": "3.10.4"
  },
  "orig_nbformat": 4
 },
 "nbformat": 4,
 "nbformat_minor": 2
}
